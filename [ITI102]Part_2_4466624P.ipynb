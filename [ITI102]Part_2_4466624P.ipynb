{
  "nbformat": 4,
  "nbformat_minor": 0,
  "metadata": {
    "colab": {
      "provenance": [],
      "toc_visible": true,
      "authorship_tag": "ABX9TyNsXXcPMlfw9/sPrXRVp8Dl",
      "include_colab_link": true
    },
    "kernelspec": {
      "name": "python3",
      "display_name": "Python 3"
    },
    "language_info": {
      "name": "python"
    }
  },
  "cells": [
    {
      "cell_type": "markdown",
      "metadata": {
        "id": "view-in-github",
        "colab_type": "text"
      },
      "source": [
        "<a href=\"https://colab.research.google.com/github/sgirabin/nyp-iti102-assignment/blob/main/%5BITI102%5DPart_2_4466624P.ipynb\" target=\"_parent\"><img src=\"https://colab.research.google.com/assets/colab-badge.svg\" alt=\"Open In Colab\"/></a>"
      ]
    },
    {
      "cell_type": "markdown",
      "source": [
        "# Trend Analysis for Grocery Store Key&U\n",
        "\n",
        "\n",
        "| Name | Student ID | Input File |\n",
        "|------|------------|------------|\n",
        "| Isak Rabin | 4466624P |  4466624P_sales.csv |\n"
      ],
      "metadata": {
        "id": "7LNgyUZeLyAg"
      }
    },
    {
      "cell_type": "markdown",
      "source": [
        "## Background\n",
        "\n",
        "Grocery store Key&U is a mini-mart that has been open since 2000. The store owner has recently digitised its data. The store owner wishes to use the data collected from the past years to have a deeper insight into the business and, hopefully, will be able to use machine learning to perform predictions.\n",
        "\n",
        "During the interview with the store owner, he wanted to be able to\n",
        "* View any common trends for each month throughout the year\n",
        "* View any common trends for each year\n"
      ],
      "metadata": {
        "id": "mHN8OdWQXRav"
      }
    },
    {
      "cell_type": "markdown",
      "source": [
        "## Objective\n",
        "\n",
        "To analyze historical sales transaction data to identify common trends across months and years.\n",
        "\n",
        "This will help the store owner plan promotions, staffing, and inventory."
      ],
      "metadata": {
        "id": "h5RyE_WwMnXu"
      }
    },
    {
      "cell_type": "markdown",
      "source": [
        "## Implementation"
      ],
      "metadata": {
        "id": "D3C7MKPXX2V1"
      }
    },
    {
      "cell_type": "markdown",
      "source": [
        "### Pre-requisite\n",
        "\n",
        "Download the input file from google drive\n",
        "https://drive.google.com/file/d/1dvrvIcmpXrNk7ah_U6Y4tt78HCI_zGTm/view?usp=drive_link"
      ],
      "metadata": {
        "id": "RAb4PvHNMvmG"
      }
    },
    {
      "cell_type": "code",
      "execution_count": 89,
      "metadata": {
        "colab": {
          "base_uri": "https://localhost:8080/"
        },
        "id": "4_jdHzJGJzpm",
        "outputId": "5d908664-aa8c-42a5-fd1e-445fbcb2f17e"
      },
      "outputs": [
        {
          "output_type": "stream",
          "name": "stdout",
          "text": [
            "--2025-06-08 03:29:58--  https://drive.usercontent.google.com/download?id=1DXadGavnfs56AGB8cd25h4luq1NcqIcG&export=download&authuser=0&confirm=t&uuid=eef3517c-29e4-417a-b701-ba5a581b803d&at=ALoNOgkW2QjovD5DOm23UZ44vzwi:1749349835971\n",
            "Resolving drive.usercontent.google.com (drive.usercontent.google.com)... 173.194.215.132, 2607:f8b0:400c:c0c::84\n",
            "Connecting to drive.usercontent.google.com (drive.usercontent.google.com)|173.194.215.132|:443... connected.\n",
            "HTTP request sent, awaiting response... 200 OK\n",
            "Length: 200402924 (191M) [application/octet-stream]\n",
            "Saving to: ‘4466624P_sales.csv’\n",
            "\n",
            "4466624P_sales.csv  100%[===================>] 191.12M   140MB/s    in 1.4s    \n",
            "\n",
            "2025-06-08 03:30:02 (140 MB/s) - ‘4466624P_sales.csv’ saved [200402924/200402924]\n",
            "\n",
            ",transaction id,item id,discounted ,discounted %,time of purchase\n",
            "0,fbfd877b-109b-4477-af5c-267847a7251f,,No,0.0,\n",
            "1,fbfd877b-109b-4477-af5c-267847a7251f,2ED8,No,0.0,\"01/01/2000, 13:33:57\"\n",
            "2,fbfd877b-109b-4477-af5c-267847a7251f,6A06,No,0.0,\"01/01/2000, 13:33:25\"\n",
            "3,fbfd877b-109b-4477-af5c-267847a7251f,28FC,No,0.0,\"01/01/2000, 13:33:04\"\n",
            "4,fbfd877b-109b-4477-af5c-267847a7251f,8700,No,0.0,\"01/01/2000, 13:33:46\"\n",
            "5,fbfd877b-109b-4477-af5c-267847a7251f,BADB,No,0.0,\"01/01/2000, 13:33:18\"\n",
            "6,fbfd877b-109b-4477-af5c-267847a7251f,316D,No,0.0,\"01/01/2000, 13:33:59\"\n",
            "7,1fffbdf4-9016-4229-8b71-fc5f981cc41b,1AAE,No,0.0,\"01/01/2000, 12:11:32\"\n",
            "8,1fffbdf4-9016-4229-8b71-fc5f981cc41b,AD44,No,0.0,\"01/01/2000, 12:11:05\"\n"
          ]
        }
      ],
      "source": [
        "# download data.csv from google drive\n",
        "!wget \"https://drive.usercontent.google.com/download?id=1DXadGavnfs56AGB8cd25h4luq1NcqIcG&export=download&authuser=0&confirm=t&uuid=eef3517c-29e4-417a-b701-ba5a581b803d&at=ALoNOgkW2QjovD5DOm23UZ44vzwi:1749349835971\" -O 4466624P_sales.csv\n",
        "\n",
        "# check file content to confirm file downloaded successfully\n",
        "!head  4466624P_sales.csv"
      ]
    },
    {
      "cell_type": "markdown",
      "source": [
        "### Step 1: Import Libraries and Load Dataset"
      ],
      "metadata": {
        "id": "SD1hM_d_WwyO"
      }
    },
    {
      "cell_type": "code",
      "source": [
        "# Import Libraries\n",
        "import pandas as pd\n",
        "import matplotlib.pyplot as plt\n",
        "import seaborn as sns"
      ],
      "metadata": {
        "id": "-Ct5L_nKYofN"
      },
      "execution_count": 90,
      "outputs": []
    },
    {
      "cell_type": "code",
      "source": [
        "# Load and Inspect Data\n",
        "file_path = \"4466624P_sales.csv\"\n",
        "sales_data = pd.read_csv(file_path)"
      ],
      "metadata": {
        "id": "AvRQEo6GZHIm"
      },
      "execution_count": 91,
      "outputs": []
    },
    {
      "cell_type": "code",
      "source": [
        "# Display first few rows\n",
        "sales_data.head()"
      ],
      "metadata": {
        "colab": {
          "base_uri": "https://localhost:8080/",
          "height": 206
        },
        "id": "YCcjVXPLZI4k",
        "outputId": "a8240878-1d63-4d20-8b55-17502904aa29"
      },
      "execution_count": 92,
      "outputs": [
        {
          "output_type": "execute_result",
          "data": {
            "text/plain": [
              "   Unnamed: 0                        transaction id item id discounted   \\\n",
              "0           0  fbfd877b-109b-4477-af5c-267847a7251f     NaN          No   \n",
              "1           1  fbfd877b-109b-4477-af5c-267847a7251f    2ED8          No   \n",
              "2           2  fbfd877b-109b-4477-af5c-267847a7251f    6A06          No   \n",
              "3           3  fbfd877b-109b-4477-af5c-267847a7251f    28FC          No   \n",
              "4           4  fbfd877b-109b-4477-af5c-267847a7251f    8700          No   \n",
              "\n",
              "   discounted %      time of purchase  \n",
              "0           0.0                   NaN  \n",
              "1           0.0  01/01/2000, 13:33:57  \n",
              "2           0.0  01/01/2000, 13:33:25  \n",
              "3           0.0  01/01/2000, 13:33:04  \n",
              "4           0.0  01/01/2000, 13:33:46  "
            ],
            "text/html": [
              "\n",
              "  <div id=\"df-9c02820d-665c-4bea-a4c0-537eaa2a77da\" class=\"colab-df-container\">\n",
              "    <div>\n",
              "<style scoped>\n",
              "    .dataframe tbody tr th:only-of-type {\n",
              "        vertical-align: middle;\n",
              "    }\n",
              "\n",
              "    .dataframe tbody tr th {\n",
              "        vertical-align: top;\n",
              "    }\n",
              "\n",
              "    .dataframe thead th {\n",
              "        text-align: right;\n",
              "    }\n",
              "</style>\n",
              "<table border=\"1\" class=\"dataframe\">\n",
              "  <thead>\n",
              "    <tr style=\"text-align: right;\">\n",
              "      <th></th>\n",
              "      <th>Unnamed: 0</th>\n",
              "      <th>transaction id</th>\n",
              "      <th>item id</th>\n",
              "      <th>discounted</th>\n",
              "      <th>discounted %</th>\n",
              "      <th>time of purchase</th>\n",
              "    </tr>\n",
              "  </thead>\n",
              "  <tbody>\n",
              "    <tr>\n",
              "      <th>0</th>\n",
              "      <td>0</td>\n",
              "      <td>fbfd877b-109b-4477-af5c-267847a7251f</td>\n",
              "      <td>NaN</td>\n",
              "      <td>No</td>\n",
              "      <td>0.0</td>\n",
              "      <td>NaN</td>\n",
              "    </tr>\n",
              "    <tr>\n",
              "      <th>1</th>\n",
              "      <td>1</td>\n",
              "      <td>fbfd877b-109b-4477-af5c-267847a7251f</td>\n",
              "      <td>2ED8</td>\n",
              "      <td>No</td>\n",
              "      <td>0.0</td>\n",
              "      <td>01/01/2000, 13:33:57</td>\n",
              "    </tr>\n",
              "    <tr>\n",
              "      <th>2</th>\n",
              "      <td>2</td>\n",
              "      <td>fbfd877b-109b-4477-af5c-267847a7251f</td>\n",
              "      <td>6A06</td>\n",
              "      <td>No</td>\n",
              "      <td>0.0</td>\n",
              "      <td>01/01/2000, 13:33:25</td>\n",
              "    </tr>\n",
              "    <tr>\n",
              "      <th>3</th>\n",
              "      <td>3</td>\n",
              "      <td>fbfd877b-109b-4477-af5c-267847a7251f</td>\n",
              "      <td>28FC</td>\n",
              "      <td>No</td>\n",
              "      <td>0.0</td>\n",
              "      <td>01/01/2000, 13:33:04</td>\n",
              "    </tr>\n",
              "    <tr>\n",
              "      <th>4</th>\n",
              "      <td>4</td>\n",
              "      <td>fbfd877b-109b-4477-af5c-267847a7251f</td>\n",
              "      <td>8700</td>\n",
              "      <td>No</td>\n",
              "      <td>0.0</td>\n",
              "      <td>01/01/2000, 13:33:46</td>\n",
              "    </tr>\n",
              "  </tbody>\n",
              "</table>\n",
              "</div>\n",
              "    <div class=\"colab-df-buttons\">\n",
              "\n",
              "  <div class=\"colab-df-container\">\n",
              "    <button class=\"colab-df-convert\" onclick=\"convertToInteractive('df-9c02820d-665c-4bea-a4c0-537eaa2a77da')\"\n",
              "            title=\"Convert this dataframe to an interactive table.\"\n",
              "            style=\"display:none;\">\n",
              "\n",
              "  <svg xmlns=\"http://www.w3.org/2000/svg\" height=\"24px\" viewBox=\"0 -960 960 960\">\n",
              "    <path d=\"M120-120v-720h720v720H120Zm60-500h600v-160H180v160Zm220 220h160v-160H400v160Zm0 220h160v-160H400v160ZM180-400h160v-160H180v160Zm440 0h160v-160H620v160ZM180-180h160v-160H180v160Zm440 0h160v-160H620v160Z\"/>\n",
              "  </svg>\n",
              "    </button>\n",
              "\n",
              "  <style>\n",
              "    .colab-df-container {\n",
              "      display:flex;\n",
              "      gap: 12px;\n",
              "    }\n",
              "\n",
              "    .colab-df-convert {\n",
              "      background-color: #E8F0FE;\n",
              "      border: none;\n",
              "      border-radius: 50%;\n",
              "      cursor: pointer;\n",
              "      display: none;\n",
              "      fill: #1967D2;\n",
              "      height: 32px;\n",
              "      padding: 0 0 0 0;\n",
              "      width: 32px;\n",
              "    }\n",
              "\n",
              "    .colab-df-convert:hover {\n",
              "      background-color: #E2EBFA;\n",
              "      box-shadow: 0px 1px 2px rgba(60, 64, 67, 0.3), 0px 1px 3px 1px rgba(60, 64, 67, 0.15);\n",
              "      fill: #174EA6;\n",
              "    }\n",
              "\n",
              "    .colab-df-buttons div {\n",
              "      margin-bottom: 4px;\n",
              "    }\n",
              "\n",
              "    [theme=dark] .colab-df-convert {\n",
              "      background-color: #3B4455;\n",
              "      fill: #D2E3FC;\n",
              "    }\n",
              "\n",
              "    [theme=dark] .colab-df-convert:hover {\n",
              "      background-color: #434B5C;\n",
              "      box-shadow: 0px 1px 3px 1px rgba(0, 0, 0, 0.15);\n",
              "      filter: drop-shadow(0px 1px 2px rgba(0, 0, 0, 0.3));\n",
              "      fill: #FFFFFF;\n",
              "    }\n",
              "  </style>\n",
              "\n",
              "    <script>\n",
              "      const buttonEl =\n",
              "        document.querySelector('#df-9c02820d-665c-4bea-a4c0-537eaa2a77da button.colab-df-convert');\n",
              "      buttonEl.style.display =\n",
              "        google.colab.kernel.accessAllowed ? 'block' : 'none';\n",
              "\n",
              "      async function convertToInteractive(key) {\n",
              "        const element = document.querySelector('#df-9c02820d-665c-4bea-a4c0-537eaa2a77da');\n",
              "        const dataTable =\n",
              "          await google.colab.kernel.invokeFunction('convertToInteractive',\n",
              "                                                    [key], {});\n",
              "        if (!dataTable) return;\n",
              "\n",
              "        const docLinkHtml = 'Like what you see? Visit the ' +\n",
              "          '<a target=\"_blank\" href=https://colab.research.google.com/notebooks/data_table.ipynb>data table notebook</a>'\n",
              "          + ' to learn more about interactive tables.';\n",
              "        element.innerHTML = '';\n",
              "        dataTable['output_type'] = 'display_data';\n",
              "        await google.colab.output.renderOutput(dataTable, element);\n",
              "        const docLink = document.createElement('div');\n",
              "        docLink.innerHTML = docLinkHtml;\n",
              "        element.appendChild(docLink);\n",
              "      }\n",
              "    </script>\n",
              "  </div>\n",
              "\n",
              "\n",
              "    <div id=\"df-3951c064-9434-4300-8ba0-18133e62786a\">\n",
              "      <button class=\"colab-df-quickchart\" onclick=\"quickchart('df-3951c064-9434-4300-8ba0-18133e62786a')\"\n",
              "                title=\"Suggest charts\"\n",
              "                style=\"display:none;\">\n",
              "\n",
              "<svg xmlns=\"http://www.w3.org/2000/svg\" height=\"24px\"viewBox=\"0 0 24 24\"\n",
              "     width=\"24px\">\n",
              "    <g>\n",
              "        <path d=\"M19 3H5c-1.1 0-2 .9-2 2v14c0 1.1.9 2 2 2h14c1.1 0 2-.9 2-2V5c0-1.1-.9-2-2-2zM9 17H7v-7h2v7zm4 0h-2V7h2v10zm4 0h-2v-4h2v4z\"/>\n",
              "    </g>\n",
              "</svg>\n",
              "      </button>\n",
              "\n",
              "<style>\n",
              "  .colab-df-quickchart {\n",
              "      --bg-color: #E8F0FE;\n",
              "      --fill-color: #1967D2;\n",
              "      --hover-bg-color: #E2EBFA;\n",
              "      --hover-fill-color: #174EA6;\n",
              "      --disabled-fill-color: #AAA;\n",
              "      --disabled-bg-color: #DDD;\n",
              "  }\n",
              "\n",
              "  [theme=dark] .colab-df-quickchart {\n",
              "      --bg-color: #3B4455;\n",
              "      --fill-color: #D2E3FC;\n",
              "      --hover-bg-color: #434B5C;\n",
              "      --hover-fill-color: #FFFFFF;\n",
              "      --disabled-bg-color: #3B4455;\n",
              "      --disabled-fill-color: #666;\n",
              "  }\n",
              "\n",
              "  .colab-df-quickchart {\n",
              "    background-color: var(--bg-color);\n",
              "    border: none;\n",
              "    border-radius: 50%;\n",
              "    cursor: pointer;\n",
              "    display: none;\n",
              "    fill: var(--fill-color);\n",
              "    height: 32px;\n",
              "    padding: 0;\n",
              "    width: 32px;\n",
              "  }\n",
              "\n",
              "  .colab-df-quickchart:hover {\n",
              "    background-color: var(--hover-bg-color);\n",
              "    box-shadow: 0 1px 2px rgba(60, 64, 67, 0.3), 0 1px 3px 1px rgba(60, 64, 67, 0.15);\n",
              "    fill: var(--button-hover-fill-color);\n",
              "  }\n",
              "\n",
              "  .colab-df-quickchart-complete:disabled,\n",
              "  .colab-df-quickchart-complete:disabled:hover {\n",
              "    background-color: var(--disabled-bg-color);\n",
              "    fill: var(--disabled-fill-color);\n",
              "    box-shadow: none;\n",
              "  }\n",
              "\n",
              "  .colab-df-spinner {\n",
              "    border: 2px solid var(--fill-color);\n",
              "    border-color: transparent;\n",
              "    border-bottom-color: var(--fill-color);\n",
              "    animation:\n",
              "      spin 1s steps(1) infinite;\n",
              "  }\n",
              "\n",
              "  @keyframes spin {\n",
              "    0% {\n",
              "      border-color: transparent;\n",
              "      border-bottom-color: var(--fill-color);\n",
              "      border-left-color: var(--fill-color);\n",
              "    }\n",
              "    20% {\n",
              "      border-color: transparent;\n",
              "      border-left-color: var(--fill-color);\n",
              "      border-top-color: var(--fill-color);\n",
              "    }\n",
              "    30% {\n",
              "      border-color: transparent;\n",
              "      border-left-color: var(--fill-color);\n",
              "      border-top-color: var(--fill-color);\n",
              "      border-right-color: var(--fill-color);\n",
              "    }\n",
              "    40% {\n",
              "      border-color: transparent;\n",
              "      border-right-color: var(--fill-color);\n",
              "      border-top-color: var(--fill-color);\n",
              "    }\n",
              "    60% {\n",
              "      border-color: transparent;\n",
              "      border-right-color: var(--fill-color);\n",
              "    }\n",
              "    80% {\n",
              "      border-color: transparent;\n",
              "      border-right-color: var(--fill-color);\n",
              "      border-bottom-color: var(--fill-color);\n",
              "    }\n",
              "    90% {\n",
              "      border-color: transparent;\n",
              "      border-bottom-color: var(--fill-color);\n",
              "    }\n",
              "  }\n",
              "</style>\n",
              "\n",
              "      <script>\n",
              "        async function quickchart(key) {\n",
              "          const quickchartButtonEl =\n",
              "            document.querySelector('#' + key + ' button');\n",
              "          quickchartButtonEl.disabled = true;  // To prevent multiple clicks.\n",
              "          quickchartButtonEl.classList.add('colab-df-spinner');\n",
              "          try {\n",
              "            const charts = await google.colab.kernel.invokeFunction(\n",
              "                'suggestCharts', [key], {});\n",
              "          } catch (error) {\n",
              "            console.error('Error during call to suggestCharts:', error);\n",
              "          }\n",
              "          quickchartButtonEl.classList.remove('colab-df-spinner');\n",
              "          quickchartButtonEl.classList.add('colab-df-quickchart-complete');\n",
              "        }\n",
              "        (() => {\n",
              "          let quickchartButtonEl =\n",
              "            document.querySelector('#df-3951c064-9434-4300-8ba0-18133e62786a button');\n",
              "          quickchartButtonEl.style.display =\n",
              "            google.colab.kernel.accessAllowed ? 'block' : 'none';\n",
              "        })();\n",
              "      </script>\n",
              "    </div>\n",
              "\n",
              "    </div>\n",
              "  </div>\n"
            ],
            "application/vnd.google.colaboratory.intrinsic+json": {
              "type": "dataframe",
              "variable_name": "sales_data"
            }
          },
          "metadata": {},
          "execution_count": 92
        }
      ]
    },
    {
      "cell_type": "code",
      "source": [
        "# Print Schema\n",
        "sales_data.info()"
      ],
      "metadata": {
        "colab": {
          "base_uri": "https://localhost:8080/"
        },
        "id": "m7tf6vPcZKsV",
        "outputId": "e4ddf02a-f032-45ac-ae7f-cafa6ac7e694"
      },
      "execution_count": 93,
      "outputs": [
        {
          "output_type": "stream",
          "name": "stdout",
          "text": [
            "<class 'pandas.core.frame.DataFrame'>\n",
            "RangeIndex: 2633416 entries, 0 to 2633415\n",
            "Data columns (total 6 columns):\n",
            " #   Column            Dtype  \n",
            "---  ------            -----  \n",
            " 0   Unnamed: 0        int64  \n",
            " 1   transaction id    object \n",
            " 2   item id           object \n",
            " 3   discounted        object \n",
            " 4   discounted %      float64\n",
            " 5   time of purchase  object \n",
            "dtypes: float64(1), int64(1), object(4)\n",
            "memory usage: 120.5+ MB\n"
          ]
        }
      ]
    },
    {
      "cell_type": "code",
      "source": [
        "# Count of total records\n",
        "sales_data.shape[0]"
      ],
      "metadata": {
        "colab": {
          "base_uri": "https://localhost:8080/"
        },
        "id": "vUJjMeyDacKM",
        "outputId": "f5d5c2d6-2726-4479-ba44-77eff6d4321c"
      },
      "execution_count": 94,
      "outputs": [
        {
          "output_type": "execute_result",
          "data": {
            "text/plain": [
              "2633416"
            ]
          },
          "metadata": {},
          "execution_count": 94
        }
      ]
    },
    {
      "cell_type": "markdown",
      "source": [
        "### Step 2: Data Cleaning"
      ],
      "metadata": {
        "id": "jfoRQljVZt2V"
      }
    },
    {
      "cell_type": "markdown",
      "source": [
        "#### Step 2.1: Remove unnecessary column for analysis"
      ],
      "metadata": {
        "id": "jSA1Ei1Mh1lW"
      }
    },
    {
      "cell_type": "markdown",
      "source": [
        "First column from our dataset is just a row index or sequence number. We can remove this, since we will not use for analysis.\n",
        "\n",
        "Removing this column will help to find duplicate records in later step."
      ],
      "metadata": {
        "id": "09Rhq74vilF_"
      }
    },
    {
      "cell_type": "code",
      "source": [
        "# Drop the first column - This is just a row index or sequence number, no use for this. It will help to find duplicate records in later step.\n",
        "if \"unnamed: 0\" in sales_data.columns:\n",
        "    sales_data = sales_data.drop(columns=[\"unnamed: 0\"])"
      ],
      "metadata": {
        "id": "cDKo2vXebRcj"
      },
      "execution_count": 95,
      "outputs": []
    },
    {
      "cell_type": "markdown",
      "source": [
        "#### Step 2.2: Standardize all column name and value"
      ],
      "metadata": {
        "id": "OJKpLgOEi11c"
      }
    },
    {
      "cell_type": "markdown",
      "source": [
        " We want to ensure our dataset is accurate, consistent, and usable.\n",
        " To achieve that, we will perform the following\n",
        " - standardize the column names and values, such as converting them to lowercase and removing leading/trailing whitespaces.  \n",
        " - removing records with missing value or null\n",
        " - remove duplicate records"
      ],
      "metadata": {
        "id": "iO1u9LY2jhgk"
      }
    },
    {
      "cell_type": "markdown",
      "source": [
        "##### Step 2.2.1: Standardize the column names and values"
      ],
      "metadata": {
        "id": "XSwYtRHplcpy"
      }
    },
    {
      "cell_type": "code",
      "source": [
        "# Convert column names to lowercase and strip whitespace\n",
        "sales_data.columns = sales_data.columns.str.lower().str.strip()\n",
        "\n",
        "# Apply lowercase and strip whitespace for string columns\n",
        "for col in sales_data.select_dtypes(include='object').columns:\n",
        "    sales_data[col] = sales_data[col].str.lower().str.strip()"
      ],
      "metadata": {
        "id": "ib8ZQiUnZ0e8"
      },
      "execution_count": 87,
      "outputs": []
    },
    {
      "cell_type": "code",
      "source": [
        "# Check unique values in 'discounted'\n",
        "print(sales_data['discounted'].unique())"
      ],
      "metadata": {
        "colab": {
          "base_uri": "https://localhost:8080/"
        },
        "id": "fvz6by2ukbAD",
        "outputId": "e6c8d1a7-706c-4d23-ea3a-9f1b4c1c8de1"
      },
      "execution_count": 88,
      "outputs": [
        {
          "output_type": "stream",
          "name": "stdout",
          "text": [
            "['no' 'yes']\n"
          ]
        }
      ]
    },
    {
      "cell_type": "markdown",
      "source": [
        "The value for `discounted` column only contains `no` and `yes`, thus no further processing is required"
      ],
      "metadata": {
        "id": "OLpcuUTxmSnD"
      }
    },
    {
      "cell_type": "code",
      "source": [
        "# Check missing values\n",
        "sales_data.isnull().sum()"
      ],
      "metadata": {
        "colab": {
          "base_uri": "https://localhost:8080/",
          "height": 241
        },
        "id": "ni2i-ondZ2qj",
        "outputId": "338437b5-2d7e-40b6-af7a-9d4f04f4c69b"
      },
      "execution_count": 67,
      "outputs": [
        {
          "output_type": "execute_result",
          "data": {
            "text/plain": [
              "transaction id           0\n",
              "item id             131670\n",
              "discounted               0\n",
              "discounted %             0\n",
              "time of purchase    395012\n",
              "dtype: int64"
            ],
            "text/html": [
              "<div>\n",
              "<style scoped>\n",
              "    .dataframe tbody tr th:only-of-type {\n",
              "        vertical-align: middle;\n",
              "    }\n",
              "\n",
              "    .dataframe tbody tr th {\n",
              "        vertical-align: top;\n",
              "    }\n",
              "\n",
              "    .dataframe thead th {\n",
              "        text-align: right;\n",
              "    }\n",
              "</style>\n",
              "<table border=\"1\" class=\"dataframe\">\n",
              "  <thead>\n",
              "    <tr style=\"text-align: right;\">\n",
              "      <th></th>\n",
              "      <th>0</th>\n",
              "    </tr>\n",
              "  </thead>\n",
              "  <tbody>\n",
              "    <tr>\n",
              "      <th>transaction id</th>\n",
              "      <td>0</td>\n",
              "    </tr>\n",
              "    <tr>\n",
              "      <th>item id</th>\n",
              "      <td>131670</td>\n",
              "    </tr>\n",
              "    <tr>\n",
              "      <th>discounted</th>\n",
              "      <td>0</td>\n",
              "    </tr>\n",
              "    <tr>\n",
              "      <th>discounted %</th>\n",
              "      <td>0</td>\n",
              "    </tr>\n",
              "    <tr>\n",
              "      <th>time of purchase</th>\n",
              "      <td>395012</td>\n",
              "    </tr>\n",
              "  </tbody>\n",
              "</table>\n",
              "</div><br><label><b>dtype:</b> int64</label>"
            ]
          },
          "metadata": {},
          "execution_count": 67
        }
      ]
    },
    {
      "cell_type": "code",
      "source": [
        "# Drop rows where item id or time of purchase is missing\n",
        "# 'item id' is crucial for sales analysis\n",
        "# 'time of purchase' is crucial for time-based trends\n",
        "sales_data = sales_data.dropna(subset=['item id', 'time of purchase'])"
      ],
      "metadata": {
        "id": "lBXOLntXbsdS"
      },
      "execution_count": 68,
      "outputs": []
    },
    {
      "cell_type": "code",
      "source": [
        "# Confirm if there is still null value\n",
        "sales_data.isnull().sum()"
      ],
      "metadata": {
        "colab": {
          "base_uri": "https://localhost:8080/",
          "height": 241
        },
        "id": "6ismSmzzcMaq",
        "outputId": "750494cf-a513-4189-a882-7f761643b348"
      },
      "execution_count": 69,
      "outputs": [
        {
          "output_type": "execute_result",
          "data": {
            "text/plain": [
              "transaction id      0\n",
              "item id             0\n",
              "discounted          0\n",
              "discounted %        0\n",
              "time of purchase    0\n",
              "dtype: int64"
            ],
            "text/html": [
              "<div>\n",
              "<style scoped>\n",
              "    .dataframe tbody tr th:only-of-type {\n",
              "        vertical-align: middle;\n",
              "    }\n",
              "\n",
              "    .dataframe tbody tr th {\n",
              "        vertical-align: top;\n",
              "    }\n",
              "\n",
              "    .dataframe thead th {\n",
              "        text-align: right;\n",
              "    }\n",
              "</style>\n",
              "<table border=\"1\" class=\"dataframe\">\n",
              "  <thead>\n",
              "    <tr style=\"text-align: right;\">\n",
              "      <th></th>\n",
              "      <th>0</th>\n",
              "    </tr>\n",
              "  </thead>\n",
              "  <tbody>\n",
              "    <tr>\n",
              "      <th>transaction id</th>\n",
              "      <td>0</td>\n",
              "    </tr>\n",
              "    <tr>\n",
              "      <th>item id</th>\n",
              "      <td>0</td>\n",
              "    </tr>\n",
              "    <tr>\n",
              "      <th>discounted</th>\n",
              "      <td>0</td>\n",
              "    </tr>\n",
              "    <tr>\n",
              "      <th>discounted %</th>\n",
              "      <td>0</td>\n",
              "    </tr>\n",
              "    <tr>\n",
              "      <th>time of purchase</th>\n",
              "      <td>0</td>\n",
              "    </tr>\n",
              "  </tbody>\n",
              "</table>\n",
              "</div><br><label><b>dtype:</b> int64</label>"
            ]
          },
          "metadata": {},
          "execution_count": 69
        }
      ]
    },
    {
      "cell_type": "code",
      "source": [
        "# Check total number of duplicate records\n",
        "duplicate_count = sales_data.duplicated().sum()\n",
        "print(f\"Number of duplicated records: {duplicate_count}\")"
      ],
      "metadata": {
        "colab": {
          "base_uri": "https://localhost:8080/"
        },
        "id": "XOdzG5nzgcPu",
        "outputId": "bbfa60af-82cf-4e90-d31e-cc07399ab6b2"
      },
      "execution_count": 74,
      "outputs": [
        {
          "output_type": "stream",
          "name": "stdout",
          "text": [
            "Number of duplicated records: 1582\n"
          ]
        }
      ]
    },
    {
      "cell_type": "code",
      "source": [
        "duplicate_rows = sales_data[sales_data.duplicated(keep=False)]\n",
        "display(duplicate_rows)"
      ],
      "metadata": {
        "colab": {
          "base_uri": "https://localhost:8080/",
          "height": 424
        },
        "id": "dRN2mHhvhF--",
        "outputId": "c0014200-10ed-4c4a-b9f3-831f1d058aca"
      },
      "execution_count": 78,
      "outputs": [
        {
          "output_type": "display_data",
          "data": {
            "text/plain": [
              "                               transaction id item id discounted  \\\n",
              "2573     8b879518-9c2f-447f-b62b-33eeea78c08b    8700         No   \n",
              "2575     8b879518-9c2f-447f-b62b-33eeea78c08b    8700         No   \n",
              "3046     d2081634-90c8-4287-b5d4-97e2abafb2ae    316D         No   \n",
              "3047     d2081634-90c8-4287-b5d4-97e2abafb2ae    316D         No   \n",
              "3050     8cd5a5cb-b89e-410c-8592-28f81d707236    D4D3         No   \n",
              "...                                       ...     ...        ...   \n",
              "2625719  d89e8cf1-b200-4be8-8a8b-11770996e1e0    82FC         No   \n",
              "2628206  9ee36fe8-a83b-4684-ae25-d1e42ff54360    1BC3         No   \n",
              "2628210  9ee36fe8-a83b-4684-ae25-d1e42ff54360    1BC3         No   \n",
              "2628594  c430bb1b-51e5-431c-91d7-8405b7bfde1c    1BC3         No   \n",
              "2628595  c430bb1b-51e5-431c-91d7-8405b7bfde1c    1BC3         No   \n",
              "\n",
              "         discounted %      time of purchase  \n",
              "2573              0.0  03/01/2000, 09:02:07  \n",
              "2575              0.0  03/01/2000, 09:02:07  \n",
              "3046              0.0  03/01/2000, 13:19:04  \n",
              "3047              0.0  03/01/2000, 13:19:04  \n",
              "3050              0.0  03/01/2000, 18:09:38  \n",
              "...               ...                   ...  \n",
              "2625719           0.0  28/12/2009, 16:36:46  \n",
              "2628206           0.0  30/12/2009, 13:09:19  \n",
              "2628210           0.0  30/12/2009, 13:09:19  \n",
              "2628594           0.0  30/12/2009, 09:01:38  \n",
              "2628595           0.0  30/12/2009, 09:01:38  \n",
              "\n",
              "[3163 rows x 5 columns]"
            ],
            "text/html": [
              "\n",
              "  <div id=\"df-12756bb3-1fed-4a03-a583-dfca217efa86\" class=\"colab-df-container\">\n",
              "    <div>\n",
              "<style scoped>\n",
              "    .dataframe tbody tr th:only-of-type {\n",
              "        vertical-align: middle;\n",
              "    }\n",
              "\n",
              "    .dataframe tbody tr th {\n",
              "        vertical-align: top;\n",
              "    }\n",
              "\n",
              "    .dataframe thead th {\n",
              "        text-align: right;\n",
              "    }\n",
              "</style>\n",
              "<table border=\"1\" class=\"dataframe\">\n",
              "  <thead>\n",
              "    <tr style=\"text-align: right;\">\n",
              "      <th></th>\n",
              "      <th>transaction id</th>\n",
              "      <th>item id</th>\n",
              "      <th>discounted</th>\n",
              "      <th>discounted %</th>\n",
              "      <th>time of purchase</th>\n",
              "    </tr>\n",
              "  </thead>\n",
              "  <tbody>\n",
              "    <tr>\n",
              "      <th>2573</th>\n",
              "      <td>8b879518-9c2f-447f-b62b-33eeea78c08b</td>\n",
              "      <td>8700</td>\n",
              "      <td>No</td>\n",
              "      <td>0.0</td>\n",
              "      <td>03/01/2000, 09:02:07</td>\n",
              "    </tr>\n",
              "    <tr>\n",
              "      <th>2575</th>\n",
              "      <td>8b879518-9c2f-447f-b62b-33eeea78c08b</td>\n",
              "      <td>8700</td>\n",
              "      <td>No</td>\n",
              "      <td>0.0</td>\n",
              "      <td>03/01/2000, 09:02:07</td>\n",
              "    </tr>\n",
              "    <tr>\n",
              "      <th>3046</th>\n",
              "      <td>d2081634-90c8-4287-b5d4-97e2abafb2ae</td>\n",
              "      <td>316D</td>\n",
              "      <td>No</td>\n",
              "      <td>0.0</td>\n",
              "      <td>03/01/2000, 13:19:04</td>\n",
              "    </tr>\n",
              "    <tr>\n",
              "      <th>3047</th>\n",
              "      <td>d2081634-90c8-4287-b5d4-97e2abafb2ae</td>\n",
              "      <td>316D</td>\n",
              "      <td>No</td>\n",
              "      <td>0.0</td>\n",
              "      <td>03/01/2000, 13:19:04</td>\n",
              "    </tr>\n",
              "    <tr>\n",
              "      <th>3050</th>\n",
              "      <td>8cd5a5cb-b89e-410c-8592-28f81d707236</td>\n",
              "      <td>D4D3</td>\n",
              "      <td>No</td>\n",
              "      <td>0.0</td>\n",
              "      <td>03/01/2000, 18:09:38</td>\n",
              "    </tr>\n",
              "    <tr>\n",
              "      <th>...</th>\n",
              "      <td>...</td>\n",
              "      <td>...</td>\n",
              "      <td>...</td>\n",
              "      <td>...</td>\n",
              "      <td>...</td>\n",
              "    </tr>\n",
              "    <tr>\n",
              "      <th>2625719</th>\n",
              "      <td>d89e8cf1-b200-4be8-8a8b-11770996e1e0</td>\n",
              "      <td>82FC</td>\n",
              "      <td>No</td>\n",
              "      <td>0.0</td>\n",
              "      <td>28/12/2009, 16:36:46</td>\n",
              "    </tr>\n",
              "    <tr>\n",
              "      <th>2628206</th>\n",
              "      <td>9ee36fe8-a83b-4684-ae25-d1e42ff54360</td>\n",
              "      <td>1BC3</td>\n",
              "      <td>No</td>\n",
              "      <td>0.0</td>\n",
              "      <td>30/12/2009, 13:09:19</td>\n",
              "    </tr>\n",
              "    <tr>\n",
              "      <th>2628210</th>\n",
              "      <td>9ee36fe8-a83b-4684-ae25-d1e42ff54360</td>\n",
              "      <td>1BC3</td>\n",
              "      <td>No</td>\n",
              "      <td>0.0</td>\n",
              "      <td>30/12/2009, 13:09:19</td>\n",
              "    </tr>\n",
              "    <tr>\n",
              "      <th>2628594</th>\n",
              "      <td>c430bb1b-51e5-431c-91d7-8405b7bfde1c</td>\n",
              "      <td>1BC3</td>\n",
              "      <td>No</td>\n",
              "      <td>0.0</td>\n",
              "      <td>30/12/2009, 09:01:38</td>\n",
              "    </tr>\n",
              "    <tr>\n",
              "      <th>2628595</th>\n",
              "      <td>c430bb1b-51e5-431c-91d7-8405b7bfde1c</td>\n",
              "      <td>1BC3</td>\n",
              "      <td>No</td>\n",
              "      <td>0.0</td>\n",
              "      <td>30/12/2009, 09:01:38</td>\n",
              "    </tr>\n",
              "  </tbody>\n",
              "</table>\n",
              "<p>3163 rows × 5 columns</p>\n",
              "</div>\n",
              "    <div class=\"colab-df-buttons\">\n",
              "\n",
              "  <div class=\"colab-df-container\">\n",
              "    <button class=\"colab-df-convert\" onclick=\"convertToInteractive('df-12756bb3-1fed-4a03-a583-dfca217efa86')\"\n",
              "            title=\"Convert this dataframe to an interactive table.\"\n",
              "            style=\"display:none;\">\n",
              "\n",
              "  <svg xmlns=\"http://www.w3.org/2000/svg\" height=\"24px\" viewBox=\"0 -960 960 960\">\n",
              "    <path d=\"M120-120v-720h720v720H120Zm60-500h600v-160H180v160Zm220 220h160v-160H400v160Zm0 220h160v-160H400v160ZM180-400h160v-160H180v160Zm440 0h160v-160H620v160ZM180-180h160v-160H180v160Zm440 0h160v-160H620v160Z\"/>\n",
              "  </svg>\n",
              "    </button>\n",
              "\n",
              "  <style>\n",
              "    .colab-df-container {\n",
              "      display:flex;\n",
              "      gap: 12px;\n",
              "    }\n",
              "\n",
              "    .colab-df-convert {\n",
              "      background-color: #E8F0FE;\n",
              "      border: none;\n",
              "      border-radius: 50%;\n",
              "      cursor: pointer;\n",
              "      display: none;\n",
              "      fill: #1967D2;\n",
              "      height: 32px;\n",
              "      padding: 0 0 0 0;\n",
              "      width: 32px;\n",
              "    }\n",
              "\n",
              "    .colab-df-convert:hover {\n",
              "      background-color: #E2EBFA;\n",
              "      box-shadow: 0px 1px 2px rgba(60, 64, 67, 0.3), 0px 1px 3px 1px rgba(60, 64, 67, 0.15);\n",
              "      fill: #174EA6;\n",
              "    }\n",
              "\n",
              "    .colab-df-buttons div {\n",
              "      margin-bottom: 4px;\n",
              "    }\n",
              "\n",
              "    [theme=dark] .colab-df-convert {\n",
              "      background-color: #3B4455;\n",
              "      fill: #D2E3FC;\n",
              "    }\n",
              "\n",
              "    [theme=dark] .colab-df-convert:hover {\n",
              "      background-color: #434B5C;\n",
              "      box-shadow: 0px 1px 3px 1px rgba(0, 0, 0, 0.15);\n",
              "      filter: drop-shadow(0px 1px 2px rgba(0, 0, 0, 0.3));\n",
              "      fill: #FFFFFF;\n",
              "    }\n",
              "  </style>\n",
              "\n",
              "    <script>\n",
              "      const buttonEl =\n",
              "        document.querySelector('#df-12756bb3-1fed-4a03-a583-dfca217efa86 button.colab-df-convert');\n",
              "      buttonEl.style.display =\n",
              "        google.colab.kernel.accessAllowed ? 'block' : 'none';\n",
              "\n",
              "      async function convertToInteractive(key) {\n",
              "        const element = document.querySelector('#df-12756bb3-1fed-4a03-a583-dfca217efa86');\n",
              "        const dataTable =\n",
              "          await google.colab.kernel.invokeFunction('convertToInteractive',\n",
              "                                                    [key], {});\n",
              "        if (!dataTable) return;\n",
              "\n",
              "        const docLinkHtml = 'Like what you see? Visit the ' +\n",
              "          '<a target=\"_blank\" href=https://colab.research.google.com/notebooks/data_table.ipynb>data table notebook</a>'\n",
              "          + ' to learn more about interactive tables.';\n",
              "        element.innerHTML = '';\n",
              "        dataTable['output_type'] = 'display_data';\n",
              "        await google.colab.output.renderOutput(dataTable, element);\n",
              "        const docLink = document.createElement('div');\n",
              "        docLink.innerHTML = docLinkHtml;\n",
              "        element.appendChild(docLink);\n",
              "      }\n",
              "    </script>\n",
              "  </div>\n",
              "\n",
              "\n",
              "    <div id=\"df-e21b634a-5ee9-4e2e-8068-d57466379d9f\">\n",
              "      <button class=\"colab-df-quickchart\" onclick=\"quickchart('df-e21b634a-5ee9-4e2e-8068-d57466379d9f')\"\n",
              "                title=\"Suggest charts\"\n",
              "                style=\"display:none;\">\n",
              "\n",
              "<svg xmlns=\"http://www.w3.org/2000/svg\" height=\"24px\"viewBox=\"0 0 24 24\"\n",
              "     width=\"24px\">\n",
              "    <g>\n",
              "        <path d=\"M19 3H5c-1.1 0-2 .9-2 2v14c0 1.1.9 2 2 2h14c1.1 0 2-.9 2-2V5c0-1.1-.9-2-2-2zM9 17H7v-7h2v7zm4 0h-2V7h2v10zm4 0h-2v-4h2v4z\"/>\n",
              "    </g>\n",
              "</svg>\n",
              "      </button>\n",
              "\n",
              "<style>\n",
              "  .colab-df-quickchart {\n",
              "      --bg-color: #E8F0FE;\n",
              "      --fill-color: #1967D2;\n",
              "      --hover-bg-color: #E2EBFA;\n",
              "      --hover-fill-color: #174EA6;\n",
              "      --disabled-fill-color: #AAA;\n",
              "      --disabled-bg-color: #DDD;\n",
              "  }\n",
              "\n",
              "  [theme=dark] .colab-df-quickchart {\n",
              "      --bg-color: #3B4455;\n",
              "      --fill-color: #D2E3FC;\n",
              "      --hover-bg-color: #434B5C;\n",
              "      --hover-fill-color: #FFFFFF;\n",
              "      --disabled-bg-color: #3B4455;\n",
              "      --disabled-fill-color: #666;\n",
              "  }\n",
              "\n",
              "  .colab-df-quickchart {\n",
              "    background-color: var(--bg-color);\n",
              "    border: none;\n",
              "    border-radius: 50%;\n",
              "    cursor: pointer;\n",
              "    display: none;\n",
              "    fill: var(--fill-color);\n",
              "    height: 32px;\n",
              "    padding: 0;\n",
              "    width: 32px;\n",
              "  }\n",
              "\n",
              "  .colab-df-quickchart:hover {\n",
              "    background-color: var(--hover-bg-color);\n",
              "    box-shadow: 0 1px 2px rgba(60, 64, 67, 0.3), 0 1px 3px 1px rgba(60, 64, 67, 0.15);\n",
              "    fill: var(--button-hover-fill-color);\n",
              "  }\n",
              "\n",
              "  .colab-df-quickchart-complete:disabled,\n",
              "  .colab-df-quickchart-complete:disabled:hover {\n",
              "    background-color: var(--disabled-bg-color);\n",
              "    fill: var(--disabled-fill-color);\n",
              "    box-shadow: none;\n",
              "  }\n",
              "\n",
              "  .colab-df-spinner {\n",
              "    border: 2px solid var(--fill-color);\n",
              "    border-color: transparent;\n",
              "    border-bottom-color: var(--fill-color);\n",
              "    animation:\n",
              "      spin 1s steps(1) infinite;\n",
              "  }\n",
              "\n",
              "  @keyframes spin {\n",
              "    0% {\n",
              "      border-color: transparent;\n",
              "      border-bottom-color: var(--fill-color);\n",
              "      border-left-color: var(--fill-color);\n",
              "    }\n",
              "    20% {\n",
              "      border-color: transparent;\n",
              "      border-left-color: var(--fill-color);\n",
              "      border-top-color: var(--fill-color);\n",
              "    }\n",
              "    30% {\n",
              "      border-color: transparent;\n",
              "      border-left-color: var(--fill-color);\n",
              "      border-top-color: var(--fill-color);\n",
              "      border-right-color: var(--fill-color);\n",
              "    }\n",
              "    40% {\n",
              "      border-color: transparent;\n",
              "      border-right-color: var(--fill-color);\n",
              "      border-top-color: var(--fill-color);\n",
              "    }\n",
              "    60% {\n",
              "      border-color: transparent;\n",
              "      border-right-color: var(--fill-color);\n",
              "    }\n",
              "    80% {\n",
              "      border-color: transparent;\n",
              "      border-right-color: var(--fill-color);\n",
              "      border-bottom-color: var(--fill-color);\n",
              "    }\n",
              "    90% {\n",
              "      border-color: transparent;\n",
              "      border-bottom-color: var(--fill-color);\n",
              "    }\n",
              "  }\n",
              "</style>\n",
              "\n",
              "      <script>\n",
              "        async function quickchart(key) {\n",
              "          const quickchartButtonEl =\n",
              "            document.querySelector('#' + key + ' button');\n",
              "          quickchartButtonEl.disabled = true;  // To prevent multiple clicks.\n",
              "          quickchartButtonEl.classList.add('colab-df-spinner');\n",
              "          try {\n",
              "            const charts = await google.colab.kernel.invokeFunction(\n",
              "                'suggestCharts', [key], {});\n",
              "          } catch (error) {\n",
              "            console.error('Error during call to suggestCharts:', error);\n",
              "          }\n",
              "          quickchartButtonEl.classList.remove('colab-df-spinner');\n",
              "          quickchartButtonEl.classList.add('colab-df-quickchart-complete');\n",
              "        }\n",
              "        (() => {\n",
              "          let quickchartButtonEl =\n",
              "            document.querySelector('#df-e21b634a-5ee9-4e2e-8068-d57466379d9f button');\n",
              "          quickchartButtonEl.style.display =\n",
              "            google.colab.kernel.accessAllowed ? 'block' : 'none';\n",
              "        })();\n",
              "      </script>\n",
              "    </div>\n",
              "\n",
              "  <div id=\"id_a85fd99e-bad2-4610-865b-2bc8f44097a8\">\n",
              "    <style>\n",
              "      .colab-df-generate {\n",
              "        background-color: #E8F0FE;\n",
              "        border: none;\n",
              "        border-radius: 50%;\n",
              "        cursor: pointer;\n",
              "        display: none;\n",
              "        fill: #1967D2;\n",
              "        height: 32px;\n",
              "        padding: 0 0 0 0;\n",
              "        width: 32px;\n",
              "      }\n",
              "\n",
              "      .colab-df-generate:hover {\n",
              "        background-color: #E2EBFA;\n",
              "        box-shadow: 0px 1px 2px rgba(60, 64, 67, 0.3), 0px 1px 3px 1px rgba(60, 64, 67, 0.15);\n",
              "        fill: #174EA6;\n",
              "      }\n",
              "\n",
              "      [theme=dark] .colab-df-generate {\n",
              "        background-color: #3B4455;\n",
              "        fill: #D2E3FC;\n",
              "      }\n",
              "\n",
              "      [theme=dark] .colab-df-generate:hover {\n",
              "        background-color: #434B5C;\n",
              "        box-shadow: 0px 1px 3px 1px rgba(0, 0, 0, 0.15);\n",
              "        filter: drop-shadow(0px 1px 2px rgba(0, 0, 0, 0.3));\n",
              "        fill: #FFFFFF;\n",
              "      }\n",
              "    </style>\n",
              "    <button class=\"colab-df-generate\" onclick=\"generateWithVariable('duplicate_rows')\"\n",
              "            title=\"Generate code using this dataframe.\"\n",
              "            style=\"display:none;\">\n",
              "\n",
              "  <svg xmlns=\"http://www.w3.org/2000/svg\" height=\"24px\"viewBox=\"0 0 24 24\"\n",
              "       width=\"24px\">\n",
              "    <path d=\"M7,19H8.4L18.45,9,17,7.55,7,17.6ZM5,21V16.75L18.45,3.32a2,2,0,0,1,2.83,0l1.4,1.43a1.91,1.91,0,0,1,.58,1.4,1.91,1.91,0,0,1-.58,1.4L9.25,21ZM18.45,9,17,7.55Zm-12,3A5.31,5.31,0,0,0,4.9,8.1,5.31,5.31,0,0,0,1,6.5,5.31,5.31,0,0,0,4.9,4.9,5.31,5.31,0,0,0,6.5,1,5.31,5.31,0,0,0,8.1,4.9,5.31,5.31,0,0,0,12,6.5,5.46,5.46,0,0,0,6.5,12Z\"/>\n",
              "  </svg>\n",
              "    </button>\n",
              "    <script>\n",
              "      (() => {\n",
              "      const buttonEl =\n",
              "        document.querySelector('#id_a85fd99e-bad2-4610-865b-2bc8f44097a8 button.colab-df-generate');\n",
              "      buttonEl.style.display =\n",
              "        google.colab.kernel.accessAllowed ? 'block' : 'none';\n",
              "\n",
              "      buttonEl.onclick = () => {\n",
              "        google.colab.notebook.generateWithVariable('duplicate_rows');\n",
              "      }\n",
              "      })();\n",
              "    </script>\n",
              "  </div>\n",
              "\n",
              "    </div>\n",
              "  </div>\n"
            ],
            "application/vnd.google.colaboratory.intrinsic+json": {
              "type": "dataframe",
              "variable_name": "duplicate_rows",
              "summary": "{\n  \"name\": \"duplicate_rows\",\n  \"rows\": 3163,\n  \"fields\": [\n    {\n      \"column\": \"transaction id\",\n      \"properties\": {\n        \"dtype\": \"category\",\n        \"num_unique_values\": 1580,\n        \"samples\": [\n          \"68d965ba-3625-48bf-81c1-a4728bc85ab8\",\n          \"fdba5c0f-2483-41b4-afe1-a5a408145df4\",\n          \"ed8e5baa-8544-40fc-954c-1e75a568d925\"\n        ],\n        \"semantic_type\": \"\",\n        \"description\": \"\"\n      }\n    },\n    {\n      \"column\": \"item id\",\n      \"properties\": {\n        \"dtype\": \"category\",\n        \"num_unique_values\": 52,\n        \"samples\": [\n          \"8E5D\",\n          \"1CD9\",\n          \"2ED8\"\n        ],\n        \"semantic_type\": \"\",\n        \"description\": \"\"\n      }\n    },\n    {\n      \"column\": \"discounted\",\n      \"properties\": {\n        \"dtype\": \"category\",\n        \"num_unique_values\": 2,\n        \"samples\": [\n          \"Yes\",\n          \"No\"\n        ],\n        \"semantic_type\": \"\",\n        \"description\": \"\"\n      }\n    },\n    {\n      \"column\": \"discounted %\",\n      \"properties\": {\n        \"dtype\": \"number\",\n        \"std\": 0.007601737645434735,\n        \"min\": 0.0,\n        \"max\": 0.28,\n        \"num_unique_values\": 4,\n        \"samples\": [\n          0.05,\n          0.28\n        ],\n        \"semantic_type\": \"\",\n        \"description\": \"\"\n      }\n    },\n    {\n      \"column\": \"time of purchase\",\n      \"properties\": {\n        \"dtype\": \"category\",\n        \"num_unique_values\": 1581,\n        \"samples\": [\n          \"31/12/2006, 21:40:52\",\n          \"09/01/2005, 13:51:15\"\n        ],\n        \"semantic_type\": \"\",\n        \"description\": \"\"\n      }\n    }\n  ]\n}"
            }
          },
          "metadata": {}
        }
      ]
    }
  ]
}