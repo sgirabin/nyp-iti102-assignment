{
  "nbformat": 4,
  "nbformat_minor": 0,
  "metadata": {
    "colab": {
      "provenance": [],
      "toc_visible": true,
      "include_colab_link": true
    },
    "kernelspec": {
      "name": "python3",
      "display_name": "Python 3"
    },
    "language_info": {
      "name": "python"
    }
  },
  "cells": [
    {
      "cell_type": "markdown",
      "metadata": {
        "id": "view-in-github",
        "colab_type": "text"
      },
      "source": [
        "<a href=\"https://colab.research.google.com/github/sgirabin/nyp-iti102-assignment/blob/main/%5BITI102%5DPart_2_4466624P.ipynb\" target=\"_parent\"><img src=\"https://colab.research.google.com/assets/colab-badge.svg\" alt=\"Open In Colab\"/></a>"
      ]
    },
    {
      "cell_type": "markdown",
      "source": [
        "# Trend Analysis for Grocery Store Key&U\n",
        "\n",
        "\n",
        "| Name | Student ID | Input File |\n",
        "|------|------------|------------|\n",
        "| Isak Rabin | 4466624P |  4466624P_sales.csv |\n"
      ],
      "metadata": {
        "id": "7LNgyUZeLyAg"
      }
    },
    {
      "cell_type": "markdown",
      "source": [
        "## Background\n",
        "\n",
        "Grocery store Key&U is a mini-mart that has been open since 2000. The store owner has recently digitised its data. The store owner wishes to use the data collected from the past years to have a deeper insight into the business and, hopefully, will be able to use machine learning to perform predictions.\n",
        "\n",
        "During the interview with the store owner, he wanted to be able to\n",
        "* View any common trends for each month throughout the year\n",
        "* View any common trends for each year\n"
      ],
      "metadata": {
        "id": "mHN8OdWQXRav"
      }
    },
    {
      "cell_type": "markdown",
      "source": [
        "## Objective\n",
        "\n",
        "We aim to analyze transaction trends by month and year and identify top-selling items over time. This analysis will support  plan promotions, staffing, and inventory.\n",
        "\n",
        "We will perform:\n",
        "- Data Cleaning and Validation\n",
        "- Data Exploration which include Descriptive Analysis with Visualizations"
      ],
      "metadata": {
        "id": "h5RyE_WwMnXu"
      }
    },
    {
      "cell_type": "markdown",
      "source": [
        "## Implementation"
      ],
      "metadata": {
        "id": "D3C7MKPXX2V1"
      }
    },
    {
      "cell_type": "markdown",
      "source": [
        "### Pre-requisite\n",
        "\n",
        "For this assignment, we are going to use assigned dataset, which can be donwloaded from the following google drive:\n",
        "https://drive.google.com/file/d/1dvrvIcmpXrNk7ah_U6Y4tt78HCI_zGTm/view?usp=drive_link\n",
        "\n",
        "The file contains the observations of historical sale."
      ],
      "metadata": {
        "id": "RAb4PvHNMvmG"
      }
    },
    {
      "cell_type": "code",
      "execution_count": 1,
      "metadata": {
        "colab": {
          "base_uri": "https://localhost:8080/"
        },
        "id": "4_jdHzJGJzpm",
        "outputId": "798cad06-2da6-46e9-aac7-858045828ec6"
      },
      "outputs": [
        {
          "output_type": "stream",
          "name": "stdout",
          "text": [
            "--2025-06-08 15:14:12--  https://drive.usercontent.google.com/download?id=1DXadGavnfs56AGB8cd25h4luq1NcqIcG&export=download&authuser=0&confirm=t&uuid=eef3517c-29e4-417a-b701-ba5a581b803d&at=ALoNOgkW2QjovD5DOm23UZ44vzwi:1749349835971\n",
            "Resolving drive.usercontent.google.com (drive.usercontent.google.com)... 74.125.137.132, 2607:f8b0:4023:c03::84\n",
            "Connecting to drive.usercontent.google.com (drive.usercontent.google.com)|74.125.137.132|:443... connected.\n",
            "HTTP request sent, awaiting response... 200 OK\n",
            "Length: 200402924 (191M) [application/octet-stream]\n",
            "Saving to: ‘4466624P_sales.csv’\n",
            "\n",
            "4466624P_sales.csv  100%[===================>] 191.12M   146MB/s    in 1.3s    \n",
            "\n",
            "2025-06-08 15:14:15 (146 MB/s) - ‘4466624P_sales.csv’ saved [200402924/200402924]\n",
            "\n",
            ",transaction id,item id,discounted ,discounted %,time of purchase\n",
            "0,fbfd877b-109b-4477-af5c-267847a7251f,,No,0.0,\n",
            "1,fbfd877b-109b-4477-af5c-267847a7251f,2ED8,No,0.0,\"01/01/2000, 13:33:57\"\n",
            "2,fbfd877b-109b-4477-af5c-267847a7251f,6A06,No,0.0,\"01/01/2000, 13:33:25\"\n",
            "3,fbfd877b-109b-4477-af5c-267847a7251f,28FC,No,0.0,\"01/01/2000, 13:33:04\"\n",
            "4,fbfd877b-109b-4477-af5c-267847a7251f,8700,No,0.0,\"01/01/2000, 13:33:46\"\n",
            "5,fbfd877b-109b-4477-af5c-267847a7251f,BADB,No,0.0,\"01/01/2000, 13:33:18\"\n",
            "6,fbfd877b-109b-4477-af5c-267847a7251f,316D,No,0.0,\"01/01/2000, 13:33:59\"\n",
            "7,1fffbdf4-9016-4229-8b71-fc5f981cc41b,1AAE,No,0.0,\"01/01/2000, 12:11:32\"\n",
            "8,1fffbdf4-9016-4229-8b71-fc5f981cc41b,AD44,No,0.0,\"01/01/2000, 12:11:05\"\n"
          ]
        }
      ],
      "source": [
        "# download data.csv from google drive\n",
        "!wget \"https://drive.usercontent.google.com/download?id=1DXadGavnfs56AGB8cd25h4luq1NcqIcG&export=download&authuser=0&confirm=t&uuid=eef3517c-29e4-417a-b701-ba5a581b803d&at=ALoNOgkW2QjovD5DOm23UZ44vzwi:1749349835971\" -O 4466624P_sales.csv\n",
        "\n",
        "# check file content to confirm file downloaded successfully\n",
        "!head  4466624P_sales.csv"
      ]
    },
    {
      "cell_type": "markdown",
      "source": [
        "### Step 1: Import Libraries and Load Dataset"
      ],
      "metadata": {
        "id": "SD1hM_d_WwyO"
      }
    },
    {
      "cell_type": "markdown",
      "source": [
        "First, we need to import necessary library for our data processing and visualisation.\n",
        "\n",
        "We’ll use NumPy and Pandas for data processing, and use Seaborn, a library built on Matplotlib that makes it easy to create informative and attractive statistical plots.\n",
        "\n",
        " Visualization helps reveal trends and patterns, even for non-programmers."
      ],
      "metadata": {
        "id": "UelXcJYza4U3"
      }
    },
    {
      "cell_type": "code",
      "source": [
        "# Import Libraries\n",
        "import pandas as pd\n",
        "import matplotlib.pyplot as plt\n",
        "import seaborn as sns"
      ],
      "metadata": {
        "id": "-Ct5L_nKYofN"
      },
      "execution_count": 2,
      "outputs": []
    },
    {
      "cell_type": "markdown",
      "source": [
        "Next, We will load the data that downloaded earlier, and display the first few rows by using `head() `function.\n",
        "\n",
        "`head()` function by default return the first 5 rows of dataset."
      ],
      "metadata": {
        "id": "75jVvMG-a_5v"
      }
    },
    {
      "cell_type": "code",
      "source": [
        "# Load and Inspect Data\n",
        "file_path = \"4466624P_sales.csv\"\n",
        "sales_data = pd.read_csv(file_path)"
      ],
      "metadata": {
        "id": "AvRQEo6GZHIm"
      },
      "execution_count": 3,
      "outputs": []
    },
    {
      "cell_type": "code",
      "source": [
        "# Display first few rows\n",
        "sales_data.head()"
      ],
      "metadata": {
        "colab": {
          "base_uri": "https://localhost:8080/",
          "height": 206
        },
        "id": "YCcjVXPLZI4k",
        "outputId": "9ed5fa92-3018-4e37-f6b3-b90389c5bd1f"
      },
      "execution_count": 4,
      "outputs": [
        {
          "output_type": "execute_result",
          "data": {
            "text/plain": [
              "   Unnamed: 0                        transaction id item id discounted   \\\n",
              "0           0  fbfd877b-109b-4477-af5c-267847a7251f     NaN          No   \n",
              "1           1  fbfd877b-109b-4477-af5c-267847a7251f    2ED8          No   \n",
              "2           2  fbfd877b-109b-4477-af5c-267847a7251f    6A06          No   \n",
              "3           3  fbfd877b-109b-4477-af5c-267847a7251f    28FC          No   \n",
              "4           4  fbfd877b-109b-4477-af5c-267847a7251f    8700          No   \n",
              "\n",
              "   discounted %      time of purchase  \n",
              "0           0.0                   NaN  \n",
              "1           0.0  01/01/2000, 13:33:57  \n",
              "2           0.0  01/01/2000, 13:33:25  \n",
              "3           0.0  01/01/2000, 13:33:04  \n",
              "4           0.0  01/01/2000, 13:33:46  "
            ],
            "text/html": [
              "\n",
              "  <div id=\"df-7c925c8f-2815-4f76-ae2a-c483fa12f5a0\" class=\"colab-df-container\">\n",
              "    <div>\n",
              "<style scoped>\n",
              "    .dataframe tbody tr th:only-of-type {\n",
              "        vertical-align: middle;\n",
              "    }\n",
              "\n",
              "    .dataframe tbody tr th {\n",
              "        vertical-align: top;\n",
              "    }\n",
              "\n",
              "    .dataframe thead th {\n",
              "        text-align: right;\n",
              "    }\n",
              "</style>\n",
              "<table border=\"1\" class=\"dataframe\">\n",
              "  <thead>\n",
              "    <tr style=\"text-align: right;\">\n",
              "      <th></th>\n",
              "      <th>Unnamed: 0</th>\n",
              "      <th>transaction id</th>\n",
              "      <th>item id</th>\n",
              "      <th>discounted</th>\n",
              "      <th>discounted %</th>\n",
              "      <th>time of purchase</th>\n",
              "    </tr>\n",
              "  </thead>\n",
              "  <tbody>\n",
              "    <tr>\n",
              "      <th>0</th>\n",
              "      <td>0</td>\n",
              "      <td>fbfd877b-109b-4477-af5c-267847a7251f</td>\n",
              "      <td>NaN</td>\n",
              "      <td>No</td>\n",
              "      <td>0.0</td>\n",
              "      <td>NaN</td>\n",
              "    </tr>\n",
              "    <tr>\n",
              "      <th>1</th>\n",
              "      <td>1</td>\n",
              "      <td>fbfd877b-109b-4477-af5c-267847a7251f</td>\n",
              "      <td>2ED8</td>\n",
              "      <td>No</td>\n",
              "      <td>0.0</td>\n",
              "      <td>01/01/2000, 13:33:57</td>\n",
              "    </tr>\n",
              "    <tr>\n",
              "      <th>2</th>\n",
              "      <td>2</td>\n",
              "      <td>fbfd877b-109b-4477-af5c-267847a7251f</td>\n",
              "      <td>6A06</td>\n",
              "      <td>No</td>\n",
              "      <td>0.0</td>\n",
              "      <td>01/01/2000, 13:33:25</td>\n",
              "    </tr>\n",
              "    <tr>\n",
              "      <th>3</th>\n",
              "      <td>3</td>\n",
              "      <td>fbfd877b-109b-4477-af5c-267847a7251f</td>\n",
              "      <td>28FC</td>\n",
              "      <td>No</td>\n",
              "      <td>0.0</td>\n",
              "      <td>01/01/2000, 13:33:04</td>\n",
              "    </tr>\n",
              "    <tr>\n",
              "      <th>4</th>\n",
              "      <td>4</td>\n",
              "      <td>fbfd877b-109b-4477-af5c-267847a7251f</td>\n",
              "      <td>8700</td>\n",
              "      <td>No</td>\n",
              "      <td>0.0</td>\n",
              "      <td>01/01/2000, 13:33:46</td>\n",
              "    </tr>\n",
              "  </tbody>\n",
              "</table>\n",
              "</div>\n",
              "    <div class=\"colab-df-buttons\">\n",
              "\n",
              "  <div class=\"colab-df-container\">\n",
              "    <button class=\"colab-df-convert\" onclick=\"convertToInteractive('df-7c925c8f-2815-4f76-ae2a-c483fa12f5a0')\"\n",
              "            title=\"Convert this dataframe to an interactive table.\"\n",
              "            style=\"display:none;\">\n",
              "\n",
              "  <svg xmlns=\"http://www.w3.org/2000/svg\" height=\"24px\" viewBox=\"0 -960 960 960\">\n",
              "    <path d=\"M120-120v-720h720v720H120Zm60-500h600v-160H180v160Zm220 220h160v-160H400v160Zm0 220h160v-160H400v160ZM180-400h160v-160H180v160Zm440 0h160v-160H620v160ZM180-180h160v-160H180v160Zm440 0h160v-160H620v160Z\"/>\n",
              "  </svg>\n",
              "    </button>\n",
              "\n",
              "  <style>\n",
              "    .colab-df-container {\n",
              "      display:flex;\n",
              "      gap: 12px;\n",
              "    }\n",
              "\n",
              "    .colab-df-convert {\n",
              "      background-color: #E8F0FE;\n",
              "      border: none;\n",
              "      border-radius: 50%;\n",
              "      cursor: pointer;\n",
              "      display: none;\n",
              "      fill: #1967D2;\n",
              "      height: 32px;\n",
              "      padding: 0 0 0 0;\n",
              "      width: 32px;\n",
              "    }\n",
              "\n",
              "    .colab-df-convert:hover {\n",
              "      background-color: #E2EBFA;\n",
              "      box-shadow: 0px 1px 2px rgba(60, 64, 67, 0.3), 0px 1px 3px 1px rgba(60, 64, 67, 0.15);\n",
              "      fill: #174EA6;\n",
              "    }\n",
              "\n",
              "    .colab-df-buttons div {\n",
              "      margin-bottom: 4px;\n",
              "    }\n",
              "\n",
              "    [theme=dark] .colab-df-convert {\n",
              "      background-color: #3B4455;\n",
              "      fill: #D2E3FC;\n",
              "    }\n",
              "\n",
              "    [theme=dark] .colab-df-convert:hover {\n",
              "      background-color: #434B5C;\n",
              "      box-shadow: 0px 1px 3px 1px rgba(0, 0, 0, 0.15);\n",
              "      filter: drop-shadow(0px 1px 2px rgba(0, 0, 0, 0.3));\n",
              "      fill: #FFFFFF;\n",
              "    }\n",
              "  </style>\n",
              "\n",
              "    <script>\n",
              "      const buttonEl =\n",
              "        document.querySelector('#df-7c925c8f-2815-4f76-ae2a-c483fa12f5a0 button.colab-df-convert');\n",
              "      buttonEl.style.display =\n",
              "        google.colab.kernel.accessAllowed ? 'block' : 'none';\n",
              "\n",
              "      async function convertToInteractive(key) {\n",
              "        const element = document.querySelector('#df-7c925c8f-2815-4f76-ae2a-c483fa12f5a0');\n",
              "        const dataTable =\n",
              "          await google.colab.kernel.invokeFunction('convertToInteractive',\n",
              "                                                    [key], {});\n",
              "        if (!dataTable) return;\n",
              "\n",
              "        const docLinkHtml = 'Like what you see? Visit the ' +\n",
              "          '<a target=\"_blank\" href=https://colab.research.google.com/notebooks/data_table.ipynb>data table notebook</a>'\n",
              "          + ' to learn more about interactive tables.';\n",
              "        element.innerHTML = '';\n",
              "        dataTable['output_type'] = 'display_data';\n",
              "        await google.colab.output.renderOutput(dataTable, element);\n",
              "        const docLink = document.createElement('div');\n",
              "        docLink.innerHTML = docLinkHtml;\n",
              "        element.appendChild(docLink);\n",
              "      }\n",
              "    </script>\n",
              "  </div>\n",
              "\n",
              "\n",
              "    <div id=\"df-55874752-24eb-40c6-8d59-5ffc8358dc50\">\n",
              "      <button class=\"colab-df-quickchart\" onclick=\"quickchart('df-55874752-24eb-40c6-8d59-5ffc8358dc50')\"\n",
              "                title=\"Suggest charts\"\n",
              "                style=\"display:none;\">\n",
              "\n",
              "<svg xmlns=\"http://www.w3.org/2000/svg\" height=\"24px\"viewBox=\"0 0 24 24\"\n",
              "     width=\"24px\">\n",
              "    <g>\n",
              "        <path d=\"M19 3H5c-1.1 0-2 .9-2 2v14c0 1.1.9 2 2 2h14c1.1 0 2-.9 2-2V5c0-1.1-.9-2-2-2zM9 17H7v-7h2v7zm4 0h-2V7h2v10zm4 0h-2v-4h2v4z\"/>\n",
              "    </g>\n",
              "</svg>\n",
              "      </button>\n",
              "\n",
              "<style>\n",
              "  .colab-df-quickchart {\n",
              "      --bg-color: #E8F0FE;\n",
              "      --fill-color: #1967D2;\n",
              "      --hover-bg-color: #E2EBFA;\n",
              "      --hover-fill-color: #174EA6;\n",
              "      --disabled-fill-color: #AAA;\n",
              "      --disabled-bg-color: #DDD;\n",
              "  }\n",
              "\n",
              "  [theme=dark] .colab-df-quickchart {\n",
              "      --bg-color: #3B4455;\n",
              "      --fill-color: #D2E3FC;\n",
              "      --hover-bg-color: #434B5C;\n",
              "      --hover-fill-color: #FFFFFF;\n",
              "      --disabled-bg-color: #3B4455;\n",
              "      --disabled-fill-color: #666;\n",
              "  }\n",
              "\n",
              "  .colab-df-quickchart {\n",
              "    background-color: var(--bg-color);\n",
              "    border: none;\n",
              "    border-radius: 50%;\n",
              "    cursor: pointer;\n",
              "    display: none;\n",
              "    fill: var(--fill-color);\n",
              "    height: 32px;\n",
              "    padding: 0;\n",
              "    width: 32px;\n",
              "  }\n",
              "\n",
              "  .colab-df-quickchart:hover {\n",
              "    background-color: var(--hover-bg-color);\n",
              "    box-shadow: 0 1px 2px rgba(60, 64, 67, 0.3), 0 1px 3px 1px rgba(60, 64, 67, 0.15);\n",
              "    fill: var(--button-hover-fill-color);\n",
              "  }\n",
              "\n",
              "  .colab-df-quickchart-complete:disabled,\n",
              "  .colab-df-quickchart-complete:disabled:hover {\n",
              "    background-color: var(--disabled-bg-color);\n",
              "    fill: var(--disabled-fill-color);\n",
              "    box-shadow: none;\n",
              "  }\n",
              "\n",
              "  .colab-df-spinner {\n",
              "    border: 2px solid var(--fill-color);\n",
              "    border-color: transparent;\n",
              "    border-bottom-color: var(--fill-color);\n",
              "    animation:\n",
              "      spin 1s steps(1) infinite;\n",
              "  }\n",
              "\n",
              "  @keyframes spin {\n",
              "    0% {\n",
              "      border-color: transparent;\n",
              "      border-bottom-color: var(--fill-color);\n",
              "      border-left-color: var(--fill-color);\n",
              "    }\n",
              "    20% {\n",
              "      border-color: transparent;\n",
              "      border-left-color: var(--fill-color);\n",
              "      border-top-color: var(--fill-color);\n",
              "    }\n",
              "    30% {\n",
              "      border-color: transparent;\n",
              "      border-left-color: var(--fill-color);\n",
              "      border-top-color: var(--fill-color);\n",
              "      border-right-color: var(--fill-color);\n",
              "    }\n",
              "    40% {\n",
              "      border-color: transparent;\n",
              "      border-right-color: var(--fill-color);\n",
              "      border-top-color: var(--fill-color);\n",
              "    }\n",
              "    60% {\n",
              "      border-color: transparent;\n",
              "      border-right-color: var(--fill-color);\n",
              "    }\n",
              "    80% {\n",
              "      border-color: transparent;\n",
              "      border-right-color: var(--fill-color);\n",
              "      border-bottom-color: var(--fill-color);\n",
              "    }\n",
              "    90% {\n",
              "      border-color: transparent;\n",
              "      border-bottom-color: var(--fill-color);\n",
              "    }\n",
              "  }\n",
              "</style>\n",
              "\n",
              "      <script>\n",
              "        async function quickchart(key) {\n",
              "          const quickchartButtonEl =\n",
              "            document.querySelector('#' + key + ' button');\n",
              "          quickchartButtonEl.disabled = true;  // To prevent multiple clicks.\n",
              "          quickchartButtonEl.classList.add('colab-df-spinner');\n",
              "          try {\n",
              "            const charts = await google.colab.kernel.invokeFunction(\n",
              "                'suggestCharts', [key], {});\n",
              "          } catch (error) {\n",
              "            console.error('Error during call to suggestCharts:', error);\n",
              "          }\n",
              "          quickchartButtonEl.classList.remove('colab-df-spinner');\n",
              "          quickchartButtonEl.classList.add('colab-df-quickchart-complete');\n",
              "        }\n",
              "        (() => {\n",
              "          let quickchartButtonEl =\n",
              "            document.querySelector('#df-55874752-24eb-40c6-8d59-5ffc8358dc50 button');\n",
              "          quickchartButtonEl.style.display =\n",
              "            google.colab.kernel.accessAllowed ? 'block' : 'none';\n",
              "        })();\n",
              "      </script>\n",
              "    </div>\n",
              "\n",
              "    </div>\n",
              "  </div>\n"
            ],
            "application/vnd.google.colaboratory.intrinsic+json": {
              "type": "dataframe",
              "variable_name": "sales_data"
            }
          },
          "metadata": {},
          "execution_count": 4
        }
      ]
    },
    {
      "cell_type": "markdown",
      "source": [
        "We also want to understand the definition of each column from our dataset. We will use `info()` function for this purpose."
      ],
      "metadata": {
        "id": "AwuLqOlxfThs"
      }
    },
    {
      "cell_type": "code",
      "source": [
        "# Print Schema\n",
        "sales_data.info()"
      ],
      "metadata": {
        "colab": {
          "base_uri": "https://localhost:8080/"
        },
        "id": "m7tf6vPcZKsV",
        "outputId": "a6da8bd0-34c0-4a86-a858-da1fed5c27c8"
      },
      "execution_count": 5,
      "outputs": [
        {
          "output_type": "stream",
          "name": "stdout",
          "text": [
            "<class 'pandas.core.frame.DataFrame'>\n",
            "RangeIndex: 2633416 entries, 0 to 2633415\n",
            "Data columns (total 6 columns):\n",
            " #   Column            Dtype  \n",
            "---  ------            -----  \n",
            " 0   Unnamed: 0        int64  \n",
            " 1   transaction id    object \n",
            " 2   item id           object \n",
            " 3   discounted        object \n",
            " 4   discounted %      float64\n",
            " 5   time of purchase  object \n",
            "dtypes: float64(1), int64(1), object(4)\n",
            "memory usage: 120.5+ MB\n"
          ]
        }
      ]
    },
    {
      "cell_type": "markdown",
      "source": [
        "Lastly, we want to know how many records available in our dataset. For this, we are going to use `shape[0]` function which will return number of records in our dataset."
      ],
      "metadata": {
        "id": "XPn6vxt5fxtp"
      }
    },
    {
      "cell_type": "code",
      "source": [
        "# Count of total records\n",
        "sales_data.shape[0]"
      ],
      "metadata": {
        "colab": {
          "base_uri": "https://localhost:8080/"
        },
        "id": "vUJjMeyDacKM",
        "outputId": "ec389f84-49a0-42ed-fb25-95efdf8e8bd3"
      },
      "execution_count": 6,
      "outputs": [
        {
          "output_type": "execute_result",
          "data": {
            "text/plain": [
              "2633416"
            ]
          },
          "metadata": {},
          "execution_count": 6
        }
      ]
    },
    {
      "cell_type": "markdown",
      "source": [
        "And how many unique (`transaction id`, `item_id`) from those records that we have."
      ],
      "metadata": {
        "id": "ewHlDgJagfmW"
      }
    },
    {
      "cell_type": "code",
      "source": [
        "print(sales_data.nunique())"
      ],
      "metadata": {
        "colab": {
          "base_uri": "https://localhost:8080/"
        },
        "id": "1JC_IjQogWUo",
        "outputId": "09813cbf-b92e-4ae3-885a-f0387ada0375"
      },
      "execution_count": 7,
      "outputs": [
        {
          "output_type": "stream",
          "name": "stdout",
          "text": [
            "Unnamed: 0          2633416\n",
            "transaction id       526892\n",
            "item id                  52\n",
            "discounted                2\n",
            "discounted %             71\n",
            "time of purchase    2121088\n",
            "dtype: int64\n"
          ]
        }
      ]
    },
    {
      "cell_type": "markdown",
      "source": [
        "### Step 2: Data Cleaning"
      ],
      "metadata": {
        "id": "jfoRQljVZt2V"
      }
    },
    {
      "cell_type": "markdown",
      "source": [
        "We have some pre-eliminary understanding of our dataset. As for next step, we would like to perform some data cleaning so that we can remove unnecessary data from our dataset that may impact our data analysis later on.\n",
        "\n",
        "The following data cleaning will be performed\n",
        "- Remove unnecessary column\n",
        "  We do not need all column, especially the row index.\n",
        "\n",
        "- Standardize all column name and value\n",
        "  It is important that to ensure our dataset is accurate, consistent, and usable.\n",
        "  To achieve that, the following process will be applied\n",
        "  - make all value case in-sensitive (lower case)\n",
        "  - remove row with missing value or `null` in our dataset\n",
        "  - remove duplicate records\n",
        "\n",
        "- Conduct data validation to ensure that all the value in our dataset are correct.\n",
        "  -- We will check `discount %` and also `time of purchase`"
      ],
      "metadata": {
        "id": "Na8WKzsJg-Vb"
      }
    },
    {
      "cell_type": "markdown",
      "source": [
        "#### Step 2.1: Remove unnecessary column for analysis"
      ],
      "metadata": {
        "id": "jSA1Ei1Mh1lW"
      }
    },
    {
      "cell_type": "markdown",
      "source": [
        "First column from our dataset is just a row index or sequence number. We can remove this, since we will not use for analysis.\n",
        "\n",
        "Removing this column will also help to find duplicate records in later step."
      ],
      "metadata": {
        "id": "09Rhq74vilF_"
      }
    },
    {
      "cell_type": "code",
      "source": [
        "# Drop the first column - This is just a row index or sequence number, no use for this. It will help to find duplicate records in later step.\n",
        "if \"Unnamed: 0\" in sales_data.columns:\n",
        "    sales_data = sales_data.drop(columns=[\"Unnamed: 0\"])"
      ],
      "metadata": {
        "id": "cDKo2vXebRcj"
      },
      "execution_count": 8,
      "outputs": []
    },
    {
      "cell_type": "code",
      "source": [
        "# confirm if first column is dropped\n",
        "sales_data.head()"
      ],
      "metadata": {
        "colab": {
          "base_uri": "https://localhost:8080/",
          "height": 206
        },
        "id": "xE8MQMYfoIp4",
        "outputId": "0f5dec9e-0ec9-4b96-e810-a65ae62b0f62"
      },
      "execution_count": 9,
      "outputs": [
        {
          "output_type": "execute_result",
          "data": {
            "text/plain": [
              "                         transaction id item id discounted   discounted %  \\\n",
              "0  fbfd877b-109b-4477-af5c-267847a7251f     NaN          No           0.0   \n",
              "1  fbfd877b-109b-4477-af5c-267847a7251f    2ED8          No           0.0   \n",
              "2  fbfd877b-109b-4477-af5c-267847a7251f    6A06          No           0.0   \n",
              "3  fbfd877b-109b-4477-af5c-267847a7251f    28FC          No           0.0   \n",
              "4  fbfd877b-109b-4477-af5c-267847a7251f    8700          No           0.0   \n",
              "\n",
              "       time of purchase  \n",
              "0                   NaN  \n",
              "1  01/01/2000, 13:33:57  \n",
              "2  01/01/2000, 13:33:25  \n",
              "3  01/01/2000, 13:33:04  \n",
              "4  01/01/2000, 13:33:46  "
            ],
            "text/html": [
              "\n",
              "  <div id=\"df-cbb846ec-31b9-48b2-a611-f7016447513d\" class=\"colab-df-container\">\n",
              "    <div>\n",
              "<style scoped>\n",
              "    .dataframe tbody tr th:only-of-type {\n",
              "        vertical-align: middle;\n",
              "    }\n",
              "\n",
              "    .dataframe tbody tr th {\n",
              "        vertical-align: top;\n",
              "    }\n",
              "\n",
              "    .dataframe thead th {\n",
              "        text-align: right;\n",
              "    }\n",
              "</style>\n",
              "<table border=\"1\" class=\"dataframe\">\n",
              "  <thead>\n",
              "    <tr style=\"text-align: right;\">\n",
              "      <th></th>\n",
              "      <th>transaction id</th>\n",
              "      <th>item id</th>\n",
              "      <th>discounted</th>\n",
              "      <th>discounted %</th>\n",
              "      <th>time of purchase</th>\n",
              "    </tr>\n",
              "  </thead>\n",
              "  <tbody>\n",
              "    <tr>\n",
              "      <th>0</th>\n",
              "      <td>fbfd877b-109b-4477-af5c-267847a7251f</td>\n",
              "      <td>NaN</td>\n",
              "      <td>No</td>\n",
              "      <td>0.0</td>\n",
              "      <td>NaN</td>\n",
              "    </tr>\n",
              "    <tr>\n",
              "      <th>1</th>\n",
              "      <td>fbfd877b-109b-4477-af5c-267847a7251f</td>\n",
              "      <td>2ED8</td>\n",
              "      <td>No</td>\n",
              "      <td>0.0</td>\n",
              "      <td>01/01/2000, 13:33:57</td>\n",
              "    </tr>\n",
              "    <tr>\n",
              "      <th>2</th>\n",
              "      <td>fbfd877b-109b-4477-af5c-267847a7251f</td>\n",
              "      <td>6A06</td>\n",
              "      <td>No</td>\n",
              "      <td>0.0</td>\n",
              "      <td>01/01/2000, 13:33:25</td>\n",
              "    </tr>\n",
              "    <tr>\n",
              "      <th>3</th>\n",
              "      <td>fbfd877b-109b-4477-af5c-267847a7251f</td>\n",
              "      <td>28FC</td>\n",
              "      <td>No</td>\n",
              "      <td>0.0</td>\n",
              "      <td>01/01/2000, 13:33:04</td>\n",
              "    </tr>\n",
              "    <tr>\n",
              "      <th>4</th>\n",
              "      <td>fbfd877b-109b-4477-af5c-267847a7251f</td>\n",
              "      <td>8700</td>\n",
              "      <td>No</td>\n",
              "      <td>0.0</td>\n",
              "      <td>01/01/2000, 13:33:46</td>\n",
              "    </tr>\n",
              "  </tbody>\n",
              "</table>\n",
              "</div>\n",
              "    <div class=\"colab-df-buttons\">\n",
              "\n",
              "  <div class=\"colab-df-container\">\n",
              "    <button class=\"colab-df-convert\" onclick=\"convertToInteractive('df-cbb846ec-31b9-48b2-a611-f7016447513d')\"\n",
              "            title=\"Convert this dataframe to an interactive table.\"\n",
              "            style=\"display:none;\">\n",
              "\n",
              "  <svg xmlns=\"http://www.w3.org/2000/svg\" height=\"24px\" viewBox=\"0 -960 960 960\">\n",
              "    <path d=\"M120-120v-720h720v720H120Zm60-500h600v-160H180v160Zm220 220h160v-160H400v160Zm0 220h160v-160H400v160ZM180-400h160v-160H180v160Zm440 0h160v-160H620v160ZM180-180h160v-160H180v160Zm440 0h160v-160H620v160Z\"/>\n",
              "  </svg>\n",
              "    </button>\n",
              "\n",
              "  <style>\n",
              "    .colab-df-container {\n",
              "      display:flex;\n",
              "      gap: 12px;\n",
              "    }\n",
              "\n",
              "    .colab-df-convert {\n",
              "      background-color: #E8F0FE;\n",
              "      border: none;\n",
              "      border-radius: 50%;\n",
              "      cursor: pointer;\n",
              "      display: none;\n",
              "      fill: #1967D2;\n",
              "      height: 32px;\n",
              "      padding: 0 0 0 0;\n",
              "      width: 32px;\n",
              "    }\n",
              "\n",
              "    .colab-df-convert:hover {\n",
              "      background-color: #E2EBFA;\n",
              "      box-shadow: 0px 1px 2px rgba(60, 64, 67, 0.3), 0px 1px 3px 1px rgba(60, 64, 67, 0.15);\n",
              "      fill: #174EA6;\n",
              "    }\n",
              "\n",
              "    .colab-df-buttons div {\n",
              "      margin-bottom: 4px;\n",
              "    }\n",
              "\n",
              "    [theme=dark] .colab-df-convert {\n",
              "      background-color: #3B4455;\n",
              "      fill: #D2E3FC;\n",
              "    }\n",
              "\n",
              "    [theme=dark] .colab-df-convert:hover {\n",
              "      background-color: #434B5C;\n",
              "      box-shadow: 0px 1px 3px 1px rgba(0, 0, 0, 0.15);\n",
              "      filter: drop-shadow(0px 1px 2px rgba(0, 0, 0, 0.3));\n",
              "      fill: #FFFFFF;\n",
              "    }\n",
              "  </style>\n",
              "\n",
              "    <script>\n",
              "      const buttonEl =\n",
              "        document.querySelector('#df-cbb846ec-31b9-48b2-a611-f7016447513d button.colab-df-convert');\n",
              "      buttonEl.style.display =\n",
              "        google.colab.kernel.accessAllowed ? 'block' : 'none';\n",
              "\n",
              "      async function convertToInteractive(key) {\n",
              "        const element = document.querySelector('#df-cbb846ec-31b9-48b2-a611-f7016447513d');\n",
              "        const dataTable =\n",
              "          await google.colab.kernel.invokeFunction('convertToInteractive',\n",
              "                                                    [key], {});\n",
              "        if (!dataTable) return;\n",
              "\n",
              "        const docLinkHtml = 'Like what you see? Visit the ' +\n",
              "          '<a target=\"_blank\" href=https://colab.research.google.com/notebooks/data_table.ipynb>data table notebook</a>'\n",
              "          + ' to learn more about interactive tables.';\n",
              "        element.innerHTML = '';\n",
              "        dataTable['output_type'] = 'display_data';\n",
              "        await google.colab.output.renderOutput(dataTable, element);\n",
              "        const docLink = document.createElement('div');\n",
              "        docLink.innerHTML = docLinkHtml;\n",
              "        element.appendChild(docLink);\n",
              "      }\n",
              "    </script>\n",
              "  </div>\n",
              "\n",
              "\n",
              "    <div id=\"df-f84e0011-27c7-4502-bae0-09984f299293\">\n",
              "      <button class=\"colab-df-quickchart\" onclick=\"quickchart('df-f84e0011-27c7-4502-bae0-09984f299293')\"\n",
              "                title=\"Suggest charts\"\n",
              "                style=\"display:none;\">\n",
              "\n",
              "<svg xmlns=\"http://www.w3.org/2000/svg\" height=\"24px\"viewBox=\"0 0 24 24\"\n",
              "     width=\"24px\">\n",
              "    <g>\n",
              "        <path d=\"M19 3H5c-1.1 0-2 .9-2 2v14c0 1.1.9 2 2 2h14c1.1 0 2-.9 2-2V5c0-1.1-.9-2-2-2zM9 17H7v-7h2v7zm4 0h-2V7h2v10zm4 0h-2v-4h2v4z\"/>\n",
              "    </g>\n",
              "</svg>\n",
              "      </button>\n",
              "\n",
              "<style>\n",
              "  .colab-df-quickchart {\n",
              "      --bg-color: #E8F0FE;\n",
              "      --fill-color: #1967D2;\n",
              "      --hover-bg-color: #E2EBFA;\n",
              "      --hover-fill-color: #174EA6;\n",
              "      --disabled-fill-color: #AAA;\n",
              "      --disabled-bg-color: #DDD;\n",
              "  }\n",
              "\n",
              "  [theme=dark] .colab-df-quickchart {\n",
              "      --bg-color: #3B4455;\n",
              "      --fill-color: #D2E3FC;\n",
              "      --hover-bg-color: #434B5C;\n",
              "      --hover-fill-color: #FFFFFF;\n",
              "      --disabled-bg-color: #3B4455;\n",
              "      --disabled-fill-color: #666;\n",
              "  }\n",
              "\n",
              "  .colab-df-quickchart {\n",
              "    background-color: var(--bg-color);\n",
              "    border: none;\n",
              "    border-radius: 50%;\n",
              "    cursor: pointer;\n",
              "    display: none;\n",
              "    fill: var(--fill-color);\n",
              "    height: 32px;\n",
              "    padding: 0;\n",
              "    width: 32px;\n",
              "  }\n",
              "\n",
              "  .colab-df-quickchart:hover {\n",
              "    background-color: var(--hover-bg-color);\n",
              "    box-shadow: 0 1px 2px rgba(60, 64, 67, 0.3), 0 1px 3px 1px rgba(60, 64, 67, 0.15);\n",
              "    fill: var(--button-hover-fill-color);\n",
              "  }\n",
              "\n",
              "  .colab-df-quickchart-complete:disabled,\n",
              "  .colab-df-quickchart-complete:disabled:hover {\n",
              "    background-color: var(--disabled-bg-color);\n",
              "    fill: var(--disabled-fill-color);\n",
              "    box-shadow: none;\n",
              "  }\n",
              "\n",
              "  .colab-df-spinner {\n",
              "    border: 2px solid var(--fill-color);\n",
              "    border-color: transparent;\n",
              "    border-bottom-color: var(--fill-color);\n",
              "    animation:\n",
              "      spin 1s steps(1) infinite;\n",
              "  }\n",
              "\n",
              "  @keyframes spin {\n",
              "    0% {\n",
              "      border-color: transparent;\n",
              "      border-bottom-color: var(--fill-color);\n",
              "      border-left-color: var(--fill-color);\n",
              "    }\n",
              "    20% {\n",
              "      border-color: transparent;\n",
              "      border-left-color: var(--fill-color);\n",
              "      border-top-color: var(--fill-color);\n",
              "    }\n",
              "    30% {\n",
              "      border-color: transparent;\n",
              "      border-left-color: var(--fill-color);\n",
              "      border-top-color: var(--fill-color);\n",
              "      border-right-color: var(--fill-color);\n",
              "    }\n",
              "    40% {\n",
              "      border-color: transparent;\n",
              "      border-right-color: var(--fill-color);\n",
              "      border-top-color: var(--fill-color);\n",
              "    }\n",
              "    60% {\n",
              "      border-color: transparent;\n",
              "      border-right-color: var(--fill-color);\n",
              "    }\n",
              "    80% {\n",
              "      border-color: transparent;\n",
              "      border-right-color: var(--fill-color);\n",
              "      border-bottom-color: var(--fill-color);\n",
              "    }\n",
              "    90% {\n",
              "      border-color: transparent;\n",
              "      border-bottom-color: var(--fill-color);\n",
              "    }\n",
              "  }\n",
              "</style>\n",
              "\n",
              "      <script>\n",
              "        async function quickchart(key) {\n",
              "          const quickchartButtonEl =\n",
              "            document.querySelector('#' + key + ' button');\n",
              "          quickchartButtonEl.disabled = true;  // To prevent multiple clicks.\n",
              "          quickchartButtonEl.classList.add('colab-df-spinner');\n",
              "          try {\n",
              "            const charts = await google.colab.kernel.invokeFunction(\n",
              "                'suggestCharts', [key], {});\n",
              "          } catch (error) {\n",
              "            console.error('Error during call to suggestCharts:', error);\n",
              "          }\n",
              "          quickchartButtonEl.classList.remove('colab-df-spinner');\n",
              "          quickchartButtonEl.classList.add('colab-df-quickchart-complete');\n",
              "        }\n",
              "        (() => {\n",
              "          let quickchartButtonEl =\n",
              "            document.querySelector('#df-f84e0011-27c7-4502-bae0-09984f299293 button');\n",
              "          quickchartButtonEl.style.display =\n",
              "            google.colab.kernel.accessAllowed ? 'block' : 'none';\n",
              "        })();\n",
              "      </script>\n",
              "    </div>\n",
              "\n",
              "    </div>\n",
              "  </div>\n"
            ],
            "application/vnd.google.colaboratory.intrinsic+json": {
              "type": "dataframe",
              "variable_name": "sales_data"
            }
          },
          "metadata": {},
          "execution_count": 9
        }
      ]
    },
    {
      "cell_type": "markdown",
      "source": [
        "We have sucessfully remove the row index column - `Unnamed: 0`"
      ],
      "metadata": {
        "id": "MtwWsOPd5kUW"
      }
    },
    {
      "cell_type": "markdown",
      "source": [
        "#### Step 2.2: Standardize all column name and value"
      ],
      "metadata": {
        "id": "OJKpLgOEi11c"
      }
    },
    {
      "cell_type": "markdown",
      "source": [
        " We want to ensure our dataset is accurate, consistent, and usable.\n",
        " To achieve that, we will perform the following\n",
        " - standardize the column names and values, such as converting them to lowercase and removing leading/trailing whitespaces.  \n",
        " - removing records with missing value or null\n",
        " - remove duplicate records"
      ],
      "metadata": {
        "id": "iO1u9LY2jhgk"
      }
    },
    {
      "cell_type": "markdown",
      "source": [
        "##### Step 2.2.1: Standardize the column names and values"
      ],
      "metadata": {
        "id": "XSwYtRHplcpy"
      }
    },
    {
      "cell_type": "markdown",
      "source": [
        "First, we want to remove any trailing spaces in column name and its value.\n",
        "\n",
        "This ensures:\n",
        "- All column names and values are clean and standardized\n",
        "- Avoids issues like \"Yes\", \" yes \", and \"YES\" being treated as different categories"
      ],
      "metadata": {
        "id": "6VBSftDNzYg4"
      }
    },
    {
      "cell_type": "code",
      "source": [
        "# Convert column names to lowercase and strip whitespace\n",
        "sales_data.columns = sales_data.columns.str.lower().str.strip()\n",
        "\n",
        "# Apply lowercase and strip whitespace for string columns\n",
        "for col in sales_data.select_dtypes(include=\"object\").columns:\n",
        "    sales_data[col] = sales_data[col].str.lower().str.strip()"
      ],
      "metadata": {
        "id": "ib8ZQiUnZ0e8"
      },
      "execution_count": 10,
      "outputs": []
    },
    {
      "cell_type": "markdown",
      "source": [
        "Lets confirmed whether value for `discounted` column only contains `no` and `yes`."
      ],
      "metadata": {
        "id": "T4hMhiEw0yiF"
      }
    },
    {
      "cell_type": "code",
      "source": [
        "# Check unique values in 'discounted'\n",
        "print(sales_data[\"discounted\"].unique())"
      ],
      "metadata": {
        "colab": {
          "base_uri": "https://localhost:8080/"
        },
        "id": "fvz6by2ukbAD",
        "outputId": "f47a09b3-1716-47e3-d573-bbc684f7822e"
      },
      "execution_count": 11,
      "outputs": [
        {
          "output_type": "stream",
          "name": "stdout",
          "text": [
            "['no' 'yes']\n"
          ]
        }
      ]
    },
    {
      "cell_type": "markdown",
      "source": [
        "Now, we wamt to visualize how many transactions were discounted. This helps us understand how often promotions were applied."
      ],
      "metadata": {
        "id": "jIT2hnm02HFl"
      }
    },
    {
      "cell_type": "code",
      "source": [
        "sales_data[\"discounted\"].value_counts().plot(kind=\"bar\")\n",
        "plt.title(\"Distribution of Discounted vs Non-Discounted Sales\")\n",
        "plt.ylabel(\"Count\")\n",
        "plt.xlabel(\"Discounted\")\n",
        "plt.show()"
      ],
      "metadata": {
        "colab": {
          "base_uri": "https://localhost:8080/",
          "height": 482
        },
        "id": "OXJLHvowyHIf",
        "outputId": "f11ee523-edae-40d8-9075-d70bd214859a"
      },
      "execution_count": 12,
      "outputs": [
        {
          "output_type": "display_data",
          "data": {
            "text/plain": [
              "<Figure size 640x480 with 1 Axes>"
            ],
            "image/png": "[encoded data removed]"
          },
          "metadata": {}
        }
      ]
    },
    {
      "cell_type": "markdown",
      "source": [
        "Based on above graph, although `discounted %` is present, the vast majority of values are 0. This suggests that most transactions occurred without discount.\n",
        "\n",
        "This could indicate consistent pricing, limited promotions, or missing data."
      ],
      "metadata": {
        "id": "p97Di_mZ6a31"
      }
    },
    {
      "cell_type": "markdown",
      "source": [
        "##### Step 2.2.2: Remove records will missing value"
      ],
      "metadata": {
        "id": "fJIrTcujrupF"
      }
    },
    {
      "cell_type": "markdown",
      "source": [
        "Next, we want to drop records with missing value because it can leads to wrong analysis."
      ],
      "metadata": {
        "id": "_uVssKVA3NQi"
      }
    },
    {
      "cell_type": "code",
      "source": [
        "# Check missing values\n",
        "sales_data.isnull().sum()"
      ],
      "metadata": {
        "colab": {
          "base_uri": "https://localhost:8080/",
          "height": 241
        },
        "id": "ni2i-ondZ2qj",
        "outputId": "10a8a494-d241-475e-915e-3e4c949d2c7f"
      },
      "execution_count": 13,
      "outputs": [
        {
          "output_type": "execute_result",
          "data": {
            "text/plain": [
              "transaction id           0\n",
              "item id             131670\n",
              "discounted               0\n",
              "discounted %             0\n",
              "time of purchase    395012\n",
              "dtype: int64"
            ],
            "text/html": [
              "<div>\n",
              "<style scoped>\n",
              "    .dataframe tbody tr th:only-of-type {\n",
              "        vertical-align: middle;\n",
              "    }\n",
              "\n",
              "    .dataframe tbody tr th {\n",
              "        vertical-align: top;\n",
              "    }\n",
              "\n",
              "    .dataframe thead th {\n",
              "        text-align: right;\n",
              "    }\n",
              "</style>\n",
              "<table border=\"1\" class=\"dataframe\">\n",
              "  <thead>\n",
              "    <tr style=\"text-align: right;\">\n",
              "      <th></th>\n",
              "      <th>0</th>\n",
              "    </tr>\n",
              "  </thead>\n",
              "  <tbody>\n",
              "    <tr>\n",
              "      <th>transaction id</th>\n",
              "      <td>0</td>\n",
              "    </tr>\n",
              "    <tr>\n",
              "      <th>item id</th>\n",
              "      <td>131670</td>\n",
              "    </tr>\n",
              "    <tr>\n",
              "      <th>discounted</th>\n",
              "      <td>0</td>\n",
              "    </tr>\n",
              "    <tr>\n",
              "      <th>discounted %</th>\n",
              "      <td>0</td>\n",
              "    </tr>\n",
              "    <tr>\n",
              "      <th>time of purchase</th>\n",
              "      <td>395012</td>\n",
              "    </tr>\n",
              "  </tbody>\n",
              "</table>\n",
              "</div><br><label><b>dtype:</b> int64</label>"
            ]
          },
          "metadata": {},
          "execution_count": 13
        }
      ]
    },
    {
      "cell_type": "markdown",
      "source": [
        "We can observe there some missing value for `item id` and `time of purchase`.\n",
        "\n",
        "Both `item id` and` time of purchase` are very crucial for sales analysis, especially for `time of purchase`, it is used for time based sales trend analysis, thus we will remove those records.\n",
        "\n",
        "Lets visualise how mwny records are there that missing value."
      ],
      "metadata": {
        "id": "34sMufPJ6lEG"
      }
    },
    {
      "cell_type": "code",
      "source": [
        "# Visualize Missing Data\n",
        "plt.figure(figsize=(10, 4))\n",
        "sns.heatmap(sales_data.isnull(), cbar=False, cmap=\"viridis\")\n",
        "plt.title(\"Heatmap - Missing Sales Data\")\n",
        "plt.show()"
      ],
      "metadata": {
        "colab": {
          "base_uri": "https://localhost:8080/",
          "height": 391
        },
        "id": "RtEcyvEaxFCY",
        "outputId": "3ffa63d2-4c17-4755-bef1-f3d1ae8a9b5e"
      },
      "execution_count": 14,
      "outputs": [
        {
          "output_type": "display_data",
          "data": {
            "text/plain": [
              "<Figure size 1000x400 with 1 Axes>"
            ],
            "image/png": "[encoded data removed]"
          },
          "metadata": {}
        }
      ]
    },
    {
      "cell_type": "markdown",
      "source": [
        "As shown on graph above, there is a quite number of records that is missing `time of purchase`."
      ],
      "metadata": {
        "id": "A0oAJ2AI3feT"
      }
    },
    {
      "cell_type": "code",
      "source": [
        "# Drop rows where item id or time of purchase is missing\n",
        "# 'item id' is crucial for sales analysis\n",
        "# 'time of purchase' is crucial for time-based trends\n",
        "sales_data = sales_data.dropna(subset=[\"item id\", \"time of purchase\"])"
      ],
      "metadata": {
        "id": "lBXOLntXbsdS"
      },
      "execution_count": 15,
      "outputs": []
    },
    {
      "cell_type": "code",
      "source": [
        "# Confirm if there is still null value\n",
        "sales_data.isnull().sum()"
      ],
      "metadata": {
        "colab": {
          "base_uri": "https://localhost:8080/",
          "height": 241
        },
        "id": "6ismSmzzcMaq",
        "outputId": "1d5f0acf-7359-4d23-aa4e-224b3ac72d40"
      },
      "execution_count": 16,
      "outputs": [
        {
          "output_type": "execute_result",
          "data": {
            "text/plain": [
              "transaction id      0\n",
              "item id             0\n",
              "discounted          0\n",
              "discounted %        0\n",
              "time of purchase    0\n",
              "dtype: int64"
            ],
            "text/html": [
              "<div>\n",
              "<style scoped>\n",
              "    .dataframe tbody tr th:only-of-type {\n",
              "        vertical-align: middle;\n",
              "    }\n",
              "\n",
              "    .dataframe tbody tr th {\n",
              "        vertical-align: top;\n",
              "    }\n",
              "\n",
              "    .dataframe thead th {\n",
              "        text-align: right;\n",
              "    }\n",
              "</style>\n",
              "<table border=\"1\" class=\"dataframe\">\n",
              "  <thead>\n",
              "    <tr style=\"text-align: right;\">\n",
              "      <th></th>\n",
              "      <th>0</th>\n",
              "    </tr>\n",
              "  </thead>\n",
              "  <tbody>\n",
              "    <tr>\n",
              "      <th>transaction id</th>\n",
              "      <td>0</td>\n",
              "    </tr>\n",
              "    <tr>\n",
              "      <th>item id</th>\n",
              "      <td>0</td>\n",
              "    </tr>\n",
              "    <tr>\n",
              "      <th>discounted</th>\n",
              "      <td>0</td>\n",
              "    </tr>\n",
              "    <tr>\n",
              "      <th>discounted %</th>\n",
              "      <td>0</td>\n",
              "    </tr>\n",
              "    <tr>\n",
              "      <th>time of purchase</th>\n",
              "      <td>0</td>\n",
              "    </tr>\n",
              "  </tbody>\n",
              "</table>\n",
              "</div><br><label><b>dtype:</b> int64</label>"
            ]
          },
          "metadata": {},
          "execution_count": 16
        }
      ]
    },
    {
      "cell_type": "markdown",
      "source": [
        "Now, we do not have records with missing value anymore."
      ],
      "metadata": {
        "id": "zzJRMRpM7Hew"
      }
    },
    {
      "cell_type": "markdown",
      "source": [
        "##### Step 2.2.3: Remove duplicate records"
      ],
      "metadata": {
        "id": "gMTaDH9xqsWu"
      }
    },
    {
      "cell_type": "code",
      "source": [
        "# Check total number of duplicate records\n",
        "duplicate_count = sales_data.duplicated().sum()\n",
        "print(f\"Number of duplicated records: {duplicate_count}\")"
      ],
      "metadata": {
        "colab": {
          "base_uri": "https://localhost:8080/"
        },
        "id": "XOdzG5nzgcPu",
        "outputId": "1cf44e34-e724-4408-dffd-5e10dbe025c7"
      },
      "execution_count": 17,
      "outputs": [
        {
          "output_type": "stream",
          "name": "stdout",
          "text": [
            "Number of duplicated records: 1582\n"
          ]
        }
      ]
    },
    {
      "cell_type": "code",
      "source": [
        "# confirm duplicate records\n",
        "duplicate_rows = sales_data[sales_data.duplicated(keep=False)]\n",
        "display(duplicate_rows)"
      ],
      "metadata": {
        "colab": {
          "base_uri": "https://localhost:8080/",
          "height": 424
        },
        "id": "dRN2mHhvhF--",
        "outputId": "c7cb5729-c9ed-4b7d-8ed2-6c6032862a94"
      },
      "execution_count": 18,
      "outputs": [
        {
          "output_type": "display_data",
          "data": {
            "text/plain": [
              "                               transaction id item id discounted  \\\n",
              "2573     8b879518-9c2f-447f-b62b-33eeea78c08b    8700         no   \n",
              "2575     8b879518-9c2f-447f-b62b-33eeea78c08b    8700         no   \n",
              "3046     d2081634-90c8-4287-b5d4-97e2abafb2ae    316d         no   \n",
              "3047     d2081634-90c8-4287-b5d4-97e2abafb2ae    316d         no   \n",
              "3050     8cd5a5cb-b89e-410c-8592-28f81d707236    d4d3         no   \n",
              "...                                       ...     ...        ...   \n",
              "2625719  d89e8cf1-b200-4be8-8a8b-11770996e1e0    82fc         no   \n",
              "2628206  9ee36fe8-a83b-4684-ae25-d1e42ff54360    1bc3         no   \n",
              "2628210  9ee36fe8-a83b-4684-ae25-d1e42ff54360    1bc3         no   \n",
              "2628594  c430bb1b-51e5-431c-91d7-8405b7bfde1c    1bc3         no   \n",
              "2628595  c430bb1b-51e5-431c-91d7-8405b7bfde1c    1bc3         no   \n",
              "\n",
              "         discounted %      time of purchase  \n",
              "2573              0.0  03/01/2000, 09:02:07  \n",
              "2575              0.0  03/01/2000, 09:02:07  \n",
              "3046              0.0  03/01/2000, 13:19:04  \n",
              "3047              0.0  03/01/2000, 13:19:04  \n",
              "3050              0.0  03/01/2000, 18:09:38  \n",
              "...               ...                   ...  \n",
              "2625719           0.0  28/12/2009, 16:36:46  \n",
              "2628206           0.0  30/12/2009, 13:09:19  \n",
              "2628210           0.0  30/12/2009, 13:09:19  \n",
              "2628594           0.0  30/12/2009, 09:01:38  \n",
              "2628595           0.0  30/12/2009, 09:01:38  \n",
              "\n",
              "[3163 rows x 5 columns]"
            ],
            "text/html": [
              "\n",
              "  <div id=\"df-8f4bfbb5-1534-4ee4-b31c-6217d4b0c0a1\" class=\"colab-df-container\">\n",
              "    <div>\n",
              "<style scoped>\n",
              "    .dataframe tbody tr th:only-of-type {\n",
              "        vertical-align: middle;\n",
              "    }\n",
              "\n",
              "    .dataframe tbody tr th {\n",
              "        vertical-align: top;\n",
              "    }\n",
              "\n",
              "    .dataframe thead th {\n",
              "        text-align: right;\n",
              "    }\n",
              "</style>\n",
              "<table border=\"1\" class=\"dataframe\">\n",
              "  <thead>\n",
              "    <tr style=\"text-align: right;\">\n",
              "      <th></th>\n",
              "      <th>transaction id</th>\n",
              "      <th>item id</th>\n",
              "      <th>discounted</th>\n",
              "      <th>discounted %</th>\n",
              "      <th>time of purchase</th>\n",
              "    </tr>\n",
              "  </thead>\n",
              "  <tbody>\n",
              "    <tr>\n",
              "      <th>2573</th>\n",
              "      <td>8b879518-9c2f-447f-b62b-33eeea78c08b</td>\n",
              "      <td>8700</td>\n",
              "      <td>no</td>\n",
              "      <td>0.0</td>\n",
              "      <td>03/01/2000, 09:02:07</td>\n",
              "    </tr>\n",
              "    <tr>\n",
              "      <th>2575</th>\n",
              "      <td>8b879518-9c2f-447f-b62b-33eeea78c08b</td>\n",
              "      <td>8700</td>\n",
              "      <td>no</td>\n",
              "      <td>0.0</td>\n",
              "      <td>03/01/2000, 09:02:07</td>\n",
              "    </tr>\n",
              "    <tr>\n",
              "      <th>3046</th>\n",
              "      <td>d2081634-90c8-4287-b5d4-97e2abafb2ae</td>\n",
              "      <td>316d</td>\n",
              "      <td>no</td>\n",
              "      <td>0.0</td>\n",
              "      <td>03/01/2000, 13:19:04</td>\n",
              "    </tr>\n",
              "    <tr>\n",
              "      <th>3047</th>\n",
              "      <td>d2081634-90c8-4287-b5d4-97e2abafb2ae</td>\n",
              "      <td>316d</td>\n",
              "      <td>no</td>\n",
              "      <td>0.0</td>\n",
              "      <td>03/01/2000, 13:19:04</td>\n",
              "    </tr>\n",
              "    <tr>\n",
              "      <th>3050</th>\n",
              "      <td>8cd5a5cb-b89e-410c-8592-28f81d707236</td>\n",
              "      <td>d4d3</td>\n",
              "      <td>no</td>\n",
              "      <td>0.0</td>\n",
              "      <td>03/01/2000, 18:09:38</td>\n",
              "    </tr>\n",
              "    <tr>\n",
              "      <th>...</th>\n",
              "      <td>...</td>\n",
              "      <td>...</td>\n",
              "      <td>...</td>\n",
              "      <td>...</td>\n",
              "      <td>...</td>\n",
              "    </tr>\n",
              "    <tr>\n",
              "      <th>2625719</th>\n",
              "      <td>d89e8cf1-b200-4be8-8a8b-11770996e1e0</td>\n",
              "      <td>82fc</td>\n",
              "      <td>no</td>\n",
              "      <td>0.0</td>\n",
              "      <td>28/12/2009, 16:36:46</td>\n",
              "    </tr>\n",
              "    <tr>\n",
              "      <th>2628206</th>\n",
              "      <td>9ee36fe8-a83b-4684-ae25-d1e42ff54360</td>\n",
              "      <td>1bc3</td>\n",
              "      <td>no</td>\n",
              "      <td>0.0</td>\n",
              "      <td>30/12/2009, 13:09:19</td>\n",
              "    </tr>\n",
              "    <tr>\n",
              "      <th>2628210</th>\n",
              "      <td>9ee36fe8-a83b-4684-ae25-d1e42ff54360</td>\n",
              "      <td>1bc3</td>\n",
              "      <td>no</td>\n",
              "      <td>0.0</td>\n",
              "      <td>30/12/2009, 13:09:19</td>\n",
              "    </tr>\n",
              "    <tr>\n",
              "      <th>2628594</th>\n",
              "      <td>c430bb1b-51e5-431c-91d7-8405b7bfde1c</td>\n",
              "      <td>1bc3</td>\n",
              "      <td>no</td>\n",
              "      <td>0.0</td>\n",
              "      <td>30/12/2009, 09:01:38</td>\n",
              "    </tr>\n",
              "    <tr>\n",
              "      <th>2628595</th>\n",
              "      <td>c430bb1b-51e5-431c-91d7-8405b7bfde1c</td>\n",
              "      <td>1bc3</td>\n",
              "      <td>no</td>\n",
              "      <td>0.0</td>\n",
              "      <td>30/12/2009, 09:01:38</td>\n",
              "    </tr>\n",
              "  </tbody>\n",
              "</table>\n",
              "<p>3163 rows × 5 columns</p>\n",
              "</div>\n",
              "    <div class=\"colab-df-buttons\">\n",
              "\n",
              "  <div class=\"colab-df-container\">\n",
              "    <button class=\"colab-df-convert\" onclick=\"convertToInteractive('df-8f4bfbb5-1534-4ee4-b31c-6217d4b0c0a1')\"\n",
              "            title=\"Convert this dataframe to an interactive table.\"\n",
              "            style=\"display:none;\">\n",
              "\n",
              "  <svg xmlns=\"http://www.w3.org/2000/svg\" height=\"24px\" viewBox=\"0 -960 960 960\">\n",
              "    <path d=\"M120-120v-720h720v720H120Zm60-500h600v-160H180v160Zm220 220h160v-160H400v160Zm0 220h160v-160H400v160ZM180-400h160v-160H180v160Zm440 0h160v-160H620v160ZM180-180h160v-160H180v160Zm440 0h160v-160H620v160Z\"/>\n",
              "  </svg>\n",
              "    </button>\n",
              "\n",
              "  <style>\n",
              "    .colab-df-container {\n",
              "      display:flex;\n",
              "      gap: 12px;\n",
              "    }\n",
              "\n",
              "    .colab-df-convert {\n",
              "      background-color: #E8F0FE;\n",
              "      border: none;\n",
              "      border-radius: 50%;\n",
              "      cursor: pointer;\n",
              "      display: none;\n",
              "      fill: #1967D2;\n",
              "      height: 32px;\n",
              "      padding: 0 0 0 0;\n",
              "      width: 32px;\n",
              "    }\n",
              "\n",
              "    .colab-df-convert:hover {\n",
              "      background-color: #E2EBFA;\n",
              "      box-shadow: 0px 1px 2px rgba(60, 64, 67, 0.3), 0px 1px 3px 1px rgba(60, 64, 67, 0.15);\n",
              "      fill: #174EA6;\n",
              "    }\n",
              "\n",
              "    .colab-df-buttons div {\n",
              "      margin-bottom: 4px;\n",
              "    }\n",
              "\n",
              "    [theme=dark] .colab-df-convert {\n",
              "      background-color: #3B4455;\n",
              "      fill: #D2E3FC;\n",
              "    }\n",
              "\n",
              "    [theme=dark] .colab-df-convert:hover {\n",
              "      background-color: #434B5C;\n",
              "      box-shadow: 0px 1px 3px 1px rgba(0, 0, 0, 0.15);\n",
              "      filter: drop-shadow(0px 1px 2px rgba(0, 0, 0, 0.3));\n",
              "      fill: #FFFFFF;\n",
              "    }\n",
              "  </style>\n",
              "\n",
              "    <script>\n",
              "      const buttonEl =\n",
              "        document.querySelector('#df-8f4bfbb5-1534-4ee4-b31c-6217d4b0c0a1 button.colab-df-convert');\n",
              "      buttonEl.style.display =\n",
              "        google.colab.kernel.accessAllowed ? 'block' : 'none';\n",
              "\n",
              "      async function convertToInteractive(key) {\n",
              "        const element = document.querySelector('#df-8f4bfbb5-1534-4ee4-b31c-6217d4b0c0a1');\n",
              "        const dataTable =\n",
              "          await google.colab.kernel.invokeFunction('convertToInteractive',\n",
              "                                                    [key], {});\n",
              "        if (!dataTable) return;\n",
              "\n",
              "        const docLinkHtml = 'Like what you see? Visit the ' +\n",
              "          '<a target=\"_blank\" href=https://colab.research.google.com/notebooks/data_table.ipynb>data table notebook</a>'\n",
              "          + ' to learn more about interactive tables.';\n",
              "        element.innerHTML = '';\n",
              "        dataTable['output_type'] = 'display_data';\n",
              "        await google.colab.output.renderOutput(dataTable, element);\n",
              "        const docLink = document.createElement('div');\n",
              "        docLink.innerHTML = docLinkHtml;\n",
              "        element.appendChild(docLink);\n",
              "      }\n",
              "    </script>\n",
              "  </div>\n",
              "\n",
              "\n",
              "    <div id=\"df-3287946e-ec41-48b9-96e7-a150c3952e75\">\n",
              "      <button class=\"colab-df-quickchart\" onclick=\"quickchart('df-3287946e-ec41-48b9-96e7-a150c3952e75')\"\n",
              "                title=\"Suggest charts\"\n",
              "                style=\"display:none;\">\n",
              "\n",
              "<svg xmlns=\"http://www.w3.org/2000/svg\" height=\"24px\"viewBox=\"0 0 24 24\"\n",
              "     width=\"24px\">\n",
              "    <g>\n",
              "        <path d=\"M19 3H5c-1.1 0-2 .9-2 2v14c0 1.1.9 2 2 2h14c1.1 0 2-.9 2-2V5c0-1.1-.9-2-2-2zM9 17H7v-7h2v7zm4 0h-2V7h2v10zm4 0h-2v-4h2v4z\"/>\n",
              "    </g>\n",
              "</svg>\n",
              "      </button>\n",
              "\n",
              "<style>\n",
              "  .colab-df-quickchart {\n",
              "      --bg-color: #E8F0FE;\n",
              "      --fill-color: #1967D2;\n",
              "      --hover-bg-color: #E2EBFA;\n",
              "      --hover-fill-color: #174EA6;\n",
              "      --disabled-fill-color: #AAA;\n",
              "      --disabled-bg-color: #DDD;\n",
              "  }\n",
              "\n",
              "  [theme=dark] .colab-df-quickchart {\n",
              "      --bg-color: #3B4455;\n",
              "      --fill-color: #D2E3FC;\n",
              "      --hover-bg-color: #434B5C;\n",
              "      --hover-fill-color: #FFFFFF;\n",
              "      --disabled-bg-color: #3B4455;\n",
              "      --disabled-fill-color: #666;\n",
              "  }\n",
              "\n",
              "  .colab-df-quickchart {\n",
              "    background-color: var(--bg-color);\n",
              "    border: none;\n",
              "    border-radius: 50%;\n",
              "    cursor: pointer;\n",
              "    display: none;\n",
              "    fill: var(--fill-color);\n",
              "    height: 32px;\n",
              "    padding: 0;\n",
              "    width: 32px;\n",
              "  }\n",
              "\n",
              "  .colab-df-quickchart:hover {\n",
              "    background-color: var(--hover-bg-color);\n",
              "    box-shadow: 0 1px 2px rgba(60, 64, 67, 0.3), 0 1px 3px 1px rgba(60, 64, 67, 0.15);\n",
              "    fill: var(--button-hover-fill-color);\n",
              "  }\n",
              "\n",
              "  .colab-df-quickchart-complete:disabled,\n",
              "  .colab-df-quickchart-complete:disabled:hover {\n",
              "    background-color: var(--disabled-bg-color);\n",
              "    fill: var(--disabled-fill-color);\n",
              "    box-shadow: none;\n",
              "  }\n",
              "\n",
              "  .colab-df-spinner {\n",
              "    border: 2px solid var(--fill-color);\n",
              "    border-color: transparent;\n",
              "    border-bottom-color: var(--fill-color);\n",
              "    animation:\n",
              "      spin 1s steps(1) infinite;\n",
              "  }\n",
              "\n",
              "  @keyframes spin {\n",
              "    0% {\n",
              "      border-color: transparent;\n",
              "      border-bottom-color: var(--fill-color);\n",
              "      border-left-color: var(--fill-color);\n",
              "    }\n",
              "    20% {\n",
              "      border-color: transparent;\n",
              "      border-left-color: var(--fill-color);\n",
              "      border-top-color: var(--fill-color);\n",
              "    }\n",
              "    30% {\n",
              "      border-color: transparent;\n",
              "      border-left-color: var(--fill-color);\n",
              "      border-top-color: var(--fill-color);\n",
              "      border-right-color: var(--fill-color);\n",
              "    }\n",
              "    40% {\n",
              "      border-color: transparent;\n",
              "      border-right-color: var(--fill-color);\n",
              "      border-top-color: var(--fill-color);\n",
              "    }\n",
              "    60% {\n",
              "      border-color: transparent;\n",
              "      border-right-color: var(--fill-color);\n",
              "    }\n",
              "    80% {\n",
              "      border-color: transparent;\n",
              "      border-right-color: var(--fill-color);\n",
              "      border-bottom-color: var(--fill-color);\n",
              "    }\n",
              "    90% {\n",
              "      border-color: transparent;\n",
              "      border-bottom-color: var(--fill-color);\n",
              "    }\n",
              "  }\n",
              "</style>\n",
              "\n",
              "      <script>\n",
              "        async function quickchart(key) {\n",
              "          const quickchartButtonEl =\n",
              "            document.querySelector('#' + key + ' button');\n",
              "          quickchartButtonEl.disabled = true;  // To prevent multiple clicks.\n",
              "          quickchartButtonEl.classList.add('colab-df-spinner');\n",
              "          try {\n",
              "            const charts = await google.colab.kernel.invokeFunction(\n",
              "                'suggestCharts', [key], {});\n",
              "          } catch (error) {\n",
              "            console.error('Error during call to suggestCharts:', error);\n",
              "          }\n",
              "          quickchartButtonEl.classList.remove('colab-df-spinner');\n",
              "          quickchartButtonEl.classList.add('colab-df-quickchart-complete');\n",
              "        }\n",
              "        (() => {\n",
              "          let quickchartButtonEl =\n",
              "            document.querySelector('#df-3287946e-ec41-48b9-96e7-a150c3952e75 button');\n",
              "          quickchartButtonEl.style.display =\n",
              "            google.colab.kernel.accessAllowed ? 'block' : 'none';\n",
              "        })();\n",
              "      </script>\n",
              "    </div>\n",
              "\n",
              "  <div id=\"id_fdd23b8b-9257-47ad-9298-f5d2866d9569\">\n",
              "    <style>\n",
              "      .colab-df-generate {\n",
              "        background-color: #E8F0FE;\n",
              "        border: none;\n",
              "        border-radius: 50%;\n",
              "        cursor: pointer;\n",
              "        display: none;\n",
              "        fill: #1967D2;\n",
              "        height: 32px;\n",
              "        padding: 0 0 0 0;\n",
              "        width: 32px;\n",
              "      }\n",
              "\n",
              "      .colab-df-generate:hover {\n",
              "        background-color: #E2EBFA;\n",
              "        box-shadow: 0px 1px 2px rgba(60, 64, 67, 0.3), 0px 1px 3px 1px rgba(60, 64, 67, 0.15);\n",
              "        fill: #174EA6;\n",
              "      }\n",
              "\n",
              "      [theme=dark] .colab-df-generate {\n",
              "        background-color: #3B4455;\n",
              "        fill: #D2E3FC;\n",
              "      }\n",
              "\n",
              "      [theme=dark] .colab-df-generate:hover {\n",
              "        background-color: #434B5C;\n",
              "        box-shadow: 0px 1px 3px 1px rgba(0, 0, 0, 0.15);\n",
              "        filter: drop-shadow(0px 1px 2px rgba(0, 0, 0, 0.3));\n",
              "        fill: #FFFFFF;\n",
              "      }\n",
              "    </style>\n",
              "    <button class=\"colab-df-generate\" onclick=\"generateWithVariable('duplicate_rows')\"\n",
              "            title=\"Generate code using this dataframe.\"\n",
              "            style=\"display:none;\">\n",
              "\n",
              "  <svg xmlns=\"http://www.w3.org/2000/svg\" height=\"24px\"viewBox=\"0 0 24 24\"\n",
              "       width=\"24px\">\n",
              "    <path d=\"M7,19H8.4L18.45,9,17,7.55,7,17.6ZM5,21V16.75L18.45,3.32a2,2,0,0,1,2.83,0l1.4,1.43a1.91,1.91,0,0,1,.58,1.4,1.91,1.91,0,0,1-.58,1.4L9.25,21ZM18.45,9,17,7.55Zm-12,3A5.31,5.31,0,0,0,4.9,8.1,5.31,5.31,0,0,0,1,6.5,5.31,5.31,0,0,0,4.9,4.9,5.31,5.31,0,0,0,6.5,1,5.31,5.31,0,0,0,8.1,4.9,5.31,5.31,0,0,0,12,6.5,5.46,5.46,0,0,0,6.5,12Z\"/>\n",
              "  </svg>\n",
              "    </button>\n",
              "    <script>\n",
              "      (() => {\n",
              "      const buttonEl =\n",
              "        document.querySelector('#id_fdd23b8b-9257-47ad-9298-f5d2866d9569 button.colab-df-generate');\n",
              "      buttonEl.style.display =\n",
              "        google.colab.kernel.accessAllowed ? 'block' : 'none';\n",
              "\n",
              "      buttonEl.onclick = () => {\n",
              "        google.colab.notebook.generateWithVariable('duplicate_rows');\n",
              "      }\n",
              "      })();\n",
              "    </script>\n",
              "  </div>\n",
              "\n",
              "    </div>\n",
              "  </div>\n"
            ],
            "application/vnd.google.colaboratory.intrinsic+json": {
              "type": "dataframe",
              "variable_name": "duplicate_rows",
              "summary": "{\n  \"name\": \"duplicate_rows\",\n  \"rows\": 3163,\n  \"fields\": [\n    {\n      \"column\": \"transaction id\",\n      \"properties\": {\n        \"dtype\": \"category\",\n        \"num_unique_values\": 1580,\n        \"samples\": [\n          \"68d965ba-3625-48bf-81c1-a4728bc85ab8\",\n          \"fdba5c0f-2483-41b4-afe1-a5a408145df4\",\n          \"ed8e5baa-8544-40fc-954c-1e75a568d925\"\n        ],\n        \"semantic_type\": \"\",\n        \"description\": \"\"\n      }\n    },\n    {\n      \"column\": \"item id\",\n      \"properties\": {\n        \"dtype\": \"category\",\n        \"num_unique_values\": 52,\n        \"samples\": [\n          \"8e5d\",\n          \"1cd9\",\n          \"2ed8\"\n        ],\n        \"semantic_type\": \"\",\n        \"description\": \"\"\n      }\n    },\n    {\n      \"column\": \"discounted\",\n      \"properties\": {\n        \"dtype\": \"category\",\n        \"num_unique_values\": 2,\n        \"samples\": [\n          \"yes\",\n          \"no\"\n        ],\n        \"semantic_type\": \"\",\n        \"description\": \"\"\n      }\n    },\n    {\n      \"column\": \"discounted %\",\n      \"properties\": {\n        \"dtype\": \"number\",\n        \"std\": 0.007601737645434735,\n        \"min\": 0.0,\n        \"max\": 0.28,\n        \"num_unique_values\": 4,\n        \"samples\": [\n          0.05,\n          0.28\n        ],\n        \"semantic_type\": \"\",\n        \"description\": \"\"\n      }\n    },\n    {\n      \"column\": \"time of purchase\",\n      \"properties\": {\n        \"dtype\": \"category\",\n        \"num_unique_values\": 1581,\n        \"samples\": [\n          \"31/12/2006, 21:40:52\",\n          \"09/01/2005, 13:51:15\"\n        ],\n        \"semantic_type\": \"\",\n        \"description\": \"\"\n      }\n    }\n  ]\n}"
            }
          },
          "metadata": {}
        }
      ]
    },
    {
      "cell_type": "code",
      "source": [
        "# drop duplicate\n",
        "sales_data = sales_data.drop_duplicates()"
      ],
      "metadata": {
        "id": "JKU3yQIcpj9H"
      },
      "execution_count": 19,
      "outputs": []
    },
    {
      "cell_type": "code",
      "source": [
        "# confirm no more duplicate records\n",
        "duplicate_rows = sales_data[sales_data.duplicated(keep=False)]\n",
        "display(duplicate_rows)"
      ],
      "metadata": {
        "colab": {
          "base_uri": "https://localhost:8080/",
          "height": 89
        },
        "id": "ZAtM7Ub8qVrm",
        "outputId": "e4702f98-9bc4-4e2e-8ab3-600bbbaba2cc"
      },
      "execution_count": 20,
      "outputs": [
        {
          "output_type": "display_data",
          "data": {
            "text/plain": [
              "Empty DataFrame\n",
              "Columns: [transaction id, item id, discounted, discounted %, time of purchase]\n",
              "Index: []"
            ],
            "text/html": [
              "\n",
              "  <div id=\"df-dc99cd6e-dc19-4761-837e-5133fa5bd91c\" class=\"colab-df-container\">\n",
              "    <div>\n",
              "<style scoped>\n",
              "    .dataframe tbody tr th:only-of-type {\n",
              "        vertical-align: middle;\n",
              "    }\n",
              "\n",
              "    .dataframe tbody tr th {\n",
              "        vertical-align: top;\n",
              "    }\n",
              "\n",
              "    .dataframe thead th {\n",
              "        text-align: right;\n",
              "    }\n",
              "</style>\n",
              "<table border=\"1\" class=\"dataframe\">\n",
              "  <thead>\n",
              "    <tr style=\"text-align: right;\">\n",
              "      <th></th>\n",
              "      <th>transaction id</th>\n",
              "      <th>item id</th>\n",
              "      <th>discounted</th>\n",
              "      <th>discounted %</th>\n",
              "      <th>time of purchase</th>\n",
              "    </tr>\n",
              "  </thead>\n",
              "  <tbody>\n",
              "  </tbody>\n",
              "</table>\n",
              "</div>\n",
              "    <div class=\"colab-df-buttons\">\n",
              "\n",
              "  <div class=\"colab-df-container\">\n",
              "    <button class=\"colab-df-convert\" onclick=\"convertToInteractive('df-dc99cd6e-dc19-4761-837e-5133fa5bd91c')\"\n",
              "            title=\"Convert this dataframe to an interactive table.\"\n",
              "            style=\"display:none;\">\n",
              "\n",
              "  <svg xmlns=\"http://www.w3.org/2000/svg\" height=\"24px\" viewBox=\"0 -960 960 960\">\n",
              "    <path d=\"M120-120v-720h720v720H120Zm60-500h600v-160H180v160Zm220 220h160v-160H400v160Zm0 220h160v-160H400v160ZM180-400h160v-160H180v160Zm440 0h160v-160H620v160ZM180-180h160v-160H180v160Zm440 0h160v-160H620v160Z\"/>\n",
              "  </svg>\n",
              "    </button>\n",
              "\n",
              "  <style>\n",
              "    .colab-df-container {\n",
              "      display:flex;\n",
              "      gap: 12px;\n",
              "    }\n",
              "\n",
              "    .colab-df-convert {\n",
              "      background-color: #E8F0FE;\n",
              "      border: none;\n",
              "      border-radius: 50%;\n",
              "      cursor: pointer;\n",
              "      display: none;\n",
              "      fill: #1967D2;\n",
              "      height: 32px;\n",
              "      padding: 0 0 0 0;\n",
              "      width: 32px;\n",
              "    }\n",
              "\n",
              "    .colab-df-convert:hover {\n",
              "      background-color: #E2EBFA;\n",
              "      box-shadow: 0px 1px 2px rgba(60, 64, 67, 0.3), 0px 1px 3px 1px rgba(60, 64, 67, 0.15);\n",
              "      fill: #174EA6;\n",
              "    }\n",
              "\n",
              "    .colab-df-buttons div {\n",
              "      margin-bottom: 4px;\n",
              "    }\n",
              "\n",
              "    [theme=dark] .colab-df-convert {\n",
              "      background-color: #3B4455;\n",
              "      fill: #D2E3FC;\n",
              "    }\n",
              "\n",
              "    [theme=dark] .colab-df-convert:hover {\n",
              "      background-color: #434B5C;\n",
              "      box-shadow: 0px 1px 3px 1px rgba(0, 0, 0, 0.15);\n",
              "      filter: drop-shadow(0px 1px 2px rgba(0, 0, 0, 0.3));\n",
              "      fill: #FFFFFF;\n",
              "    }\n",
              "  </style>\n",
              "\n",
              "    <script>\n",
              "      const buttonEl =\n",
              "        document.querySelector('#df-dc99cd6e-dc19-4761-837e-5133fa5bd91c button.colab-df-convert');\n",
              "      buttonEl.style.display =\n",
              "        google.colab.kernel.accessAllowed ? 'block' : 'none';\n",
              "\n",
              "      async function convertToInteractive(key) {\n",
              "        const element = document.querySelector('#df-dc99cd6e-dc19-4761-837e-5133fa5bd91c');\n",
              "        const dataTable =\n",
              "          await google.colab.kernel.invokeFunction('convertToInteractive',\n",
              "                                                    [key], {});\n",
              "        if (!dataTable) return;\n",
              "\n",
              "        const docLinkHtml = 'Like what you see? Visit the ' +\n",
              "          '<a target=\"_blank\" href=https://colab.research.google.com/notebooks/data_table.ipynb>data table notebook</a>'\n",
              "          + ' to learn more about interactive tables.';\n",
              "        element.innerHTML = '';\n",
              "        dataTable['output_type'] = 'display_data';\n",
              "        await google.colab.output.renderOutput(dataTable, element);\n",
              "        const docLink = document.createElement('div');\n",
              "        docLink.innerHTML = docLinkHtml;\n",
              "        element.appendChild(docLink);\n",
              "      }\n",
              "    </script>\n",
              "  </div>\n",
              "\n",
              "\n",
              "  <div id=\"id_6d569e7c-8827-4867-a459-c71de361a4da\">\n",
              "    <style>\n",
              "      .colab-df-generate {\n",
              "        background-color: #E8F0FE;\n",
              "        border: none;\n",
              "        border-radius: 50%;\n",
              "        cursor: pointer;\n",
              "        display: none;\n",
              "        fill: #1967D2;\n",
              "        height: 32px;\n",
              "        padding: 0 0 0 0;\n",
              "        width: 32px;\n",
              "      }\n",
              "\n",
              "      .colab-df-generate:hover {\n",
              "        background-color: #E2EBFA;\n",
              "        box-shadow: 0px 1px 2px rgba(60, 64, 67, 0.3), 0px 1px 3px 1px rgba(60, 64, 67, 0.15);\n",
              "        fill: #174EA6;\n",
              "      }\n",
              "\n",
              "      [theme=dark] .colab-df-generate {\n",
              "        background-color: #3B4455;\n",
              "        fill: #D2E3FC;\n",
              "      }\n",
              "\n",
              "      [theme=dark] .colab-df-generate:hover {\n",
              "        background-color: #434B5C;\n",
              "        box-shadow: 0px 1px 3px 1px rgba(0, 0, 0, 0.15);\n",
              "        filter: drop-shadow(0px 1px 2px rgba(0, 0, 0, 0.3));\n",
              "        fill: #FFFFFF;\n",
              "      }\n",
              "    </style>\n",
              "    <button class=\"colab-df-generate\" onclick=\"generateWithVariable('duplicate_rows')\"\n",
              "            title=\"Generate code using this dataframe.\"\n",
              "            style=\"display:none;\">\n",
              "\n",
              "  <svg xmlns=\"http://www.w3.org/2000/svg\" height=\"24px\"viewBox=\"0 0 24 24\"\n",
              "       width=\"24px\">\n",
              "    <path d=\"M7,19H8.4L18.45,9,17,7.55,7,17.6ZM5,21V16.75L18.45,3.32a2,2,0,0,1,2.83,0l1.4,1.43a1.91,1.91,0,0,1,.58,1.4,1.91,1.91,0,0,1-.58,1.4L9.25,21ZM18.45,9,17,7.55Zm-12,3A5.31,5.31,0,0,0,4.9,8.1,5.31,5.31,0,0,0,1,6.5,5.31,5.31,0,0,0,4.9,4.9,5.31,5.31,0,0,0,6.5,1,5.31,5.31,0,0,0,8.1,4.9,5.31,5.31,0,0,0,12,6.5,5.46,5.46,0,0,0,6.5,12Z\"/>\n",
              "  </svg>\n",
              "    </button>\n",
              "    <script>\n",
              "      (() => {\n",
              "      const buttonEl =\n",
              "        document.querySelector('#id_6d569e7c-8827-4867-a459-c71de361a4da button.colab-df-generate');\n",
              "      buttonEl.style.display =\n",
              "        google.colab.kernel.accessAllowed ? 'block' : 'none';\n",
              "\n",
              "      buttonEl.onclick = () => {\n",
              "        google.colab.notebook.generateWithVariable('duplicate_rows');\n",
              "      }\n",
              "      })();\n",
              "    </script>\n",
              "  </div>\n",
              "\n",
              "    </div>\n",
              "  </div>\n"
            ],
            "application/vnd.google.colaboratory.intrinsic+json": {
              "type": "dataframe",
              "variable_name": "duplicate_rows",
              "repr_error": "Out of range float values are not JSON compliant: nan"
            }
          },
          "metadata": {}
        }
      ]
    },
    {
      "cell_type": "markdown",
      "source": [
        "Now, we do not have duplicate records anymore.\n",
        "\n",
        "Lets check the number of unique records now."
      ],
      "metadata": {
        "id": "pQTqrK377MxU"
      }
    },
    {
      "cell_type": "code",
      "source": [
        "print(sales_data.nunique())"
      ],
      "metadata": {
        "colab": {
          "base_uri": "https://localhost:8080/"
        },
        "id": "fLsGdAD-jUI1",
        "outputId": "c173ba00-5334-4670-c22e-6454e1861a01"
      },
      "execution_count": 21,
      "outputs": [
        {
          "output_type": "stream",
          "name": "stdout",
          "text": [
            "transaction id       512858\n",
            "item id                  52\n",
            "discounted                2\n",
            "discounted %             71\n",
            "time of purchase    2020481\n",
            "dtype: int64\n"
          ]
        }
      ]
    },
    {
      "cell_type": "markdown",
      "source": [
        "#### Step 2.3: Data Validation"
      ],
      "metadata": {
        "id": "0P7MElelrDSf"
      }
    },
    {
      "cell_type": "markdown",
      "source": [
        "This step is necessary to ensure we have a valid data to be analysed."
      ],
      "metadata": {
        "id": "h5MvyzjsY3X7"
      }
    },
    {
      "cell_type": "markdown",
      "source": [
        "##### Step 2.3.1: Ensure the `discount %` value is correct"
      ],
      "metadata": {
        "id": "RloGxlR5X-TK"
      }
    },
    {
      "cell_type": "markdown",
      "source": [
        "The `discount %` should be numeric, and it should greater than 0 and less than 100"
      ],
      "metadata": {
        "id": "2wVPvyWEYjVH"
      }
    },
    {
      "cell_type": "code",
      "source": [
        "# Describe numeric range\n",
        "print(sales_data[\"discounted %\"].describe())"
      ],
      "metadata": {
        "colab": {
          "base_uri": "https://localhost:8080/"
        },
        "id": "eOrMMAi7s4RF",
        "outputId": "4db4808f-d21d-41f3-ab81-682c8700632a"
      },
      "execution_count": 22,
      "outputs": [
        {
          "output_type": "stream",
          "name": "stdout",
          "text": [
            "count    2.124923e+06\n",
            "mean     2.515385e-03\n",
            "std      2.880115e-02\n",
            "min      0.000000e+00\n",
            "25%      0.000000e+00\n",
            "50%      0.000000e+00\n",
            "75%      0.000000e+00\n",
            "max      7.700000e-01\n",
            "Name: discounted %, dtype: float64\n"
          ]
        }
      ]
    },
    {
      "cell_type": "code",
      "source": [
        "# Check for invalid percentages\n",
        "invalid_discounts = sales_data[(sales_data[\"discounted %\"] < 0) | (sales_data[\"discounted %\"] > 100)]\n",
        "print(invalid_discounts)"
      ],
      "metadata": {
        "colab": {
          "base_uri": "https://localhost:8080/"
        },
        "id": "KagDyd0Ys7eT",
        "outputId": "1efb8450-85ae-4446-8b26-e320da09c68d"
      },
      "execution_count": 23,
      "outputs": [
        {
          "output_type": "stream",
          "name": "stdout",
          "text": [
            "Empty DataFrame\n",
            "Columns: [transaction id, item id, discounted, discounted %, time of purchase]\n",
            "Index: []\n"
          ]
        }
      ]
    },
    {
      "cell_type": "markdown",
      "source": [
        "There is no invalid `discount %` value in our dataset."
      ],
      "metadata": {
        "id": "27RA6yrPBtPV"
      }
    },
    {
      "cell_type": "markdown",
      "source": [
        "##### Step 2.3.2: Ensure the `time of purchase` is correct"
      ],
      "metadata": {
        "id": "rdvA61pEYGWy"
      }
    },
    {
      "cell_type": "code",
      "source": [
        "print(sales_data[\"time of purchase\"].dtypes)\n",
        "print(sales_data[\"time of purchase\"].min(), sales_data[\"time of purchase\"].max())"
      ],
      "metadata": {
        "colab": {
          "base_uri": "https://localhost:8080/"
        },
        "id": "n7dloJcltAqT",
        "outputId": "61def013-30f5-49c2-9a57-013cb47356a1"
      },
      "execution_count": 24,
      "outputs": [
        {
          "output_type": "stream",
          "name": "stdout",
          "text": [
            "object\n",
            "01/01/2000, 09:37:09 31/12/2009, 22:59:56\n"
          ]
        }
      ]
    },
    {
      "cell_type": "markdown",
      "source": [
        "We can find the sales data are from ** 01/01/2000  09:37:09** to **31/12/2009 22:59:56**"
      ],
      "metadata": {
        "id": "2K83uV08BkYu"
      }
    },
    {
      "cell_type": "markdown",
      "source": [
        "##### Step 2.3.2: Check invalid logic for discount"
      ],
      "metadata": {
        "id": "eRPK2yg9BfRe"
      }
    },
    {
      "cell_type": "markdown",
      "source": [
        "Valid records, if `discount %` only exist when `discounted = yes`"
      ],
      "metadata": {
        "id": "NjfcVXteCANe"
      }
    },
    {
      "cell_type": "code",
      "source": [
        "invalid_discount_logic = sales_data[\n",
        "    ((sales_data[\"discounted\"] == \"no\") & (sales_data[\"discounted %\"] > 0)) |\n",
        "    ((sales_data[\"discounted\"] == \"yes\") & (sales_data[\"discounted %\"] == 0))\n",
        "]\n",
        "print(\"Records with inconsistent discount logic:\")\n",
        "print(invalid_discount_logic)"
      ],
      "metadata": {
        "colab": {
          "base_uri": "https://localhost:8080/"
        },
        "id": "CAX3KhNHtJC8",
        "outputId": "41789565-3cdd-4177-b7be-cdc3c5f31ce5"
      },
      "execution_count": 25,
      "outputs": [
        {
          "output_type": "stream",
          "name": "stdout",
          "text": [
            "Records with inconsistent discount logic:\n",
            "Empty DataFrame\n",
            "Columns: [transaction id, item id, discounted, discounted %, time of purchase]\n",
            "Index: []\n"
          ]
        }
      ]
    },
    {
      "cell_type": "markdown",
      "source": [
        "There is no invalid logic for `discount %`."
      ],
      "metadata": {
        "id": "0k9p1Ib1B4Ae"
      }
    },
    {
      "cell_type": "markdown",
      "source": [
        "### Step 3: Data Exploration and Analysis"
      ],
      "metadata": {
        "id": "i798YxWpt8WD"
      }
    },
    {
      "cell_type": "markdown",
      "source": [
        "Dataset understanding so far that we get from previous steps\n",
        "- From step **2.2.3**, we know that our dataset consits of\n",
        "\n",
        "\n",
        "    | Columns               | Unique Count |\n",
        "    |-----------------------|--------------|        \n",
        "    | transaction id        | 526892       |\n",
        "    | item id               |    52        |\n",
        "    \n",
        "\n",
        "- From Step **2.3.2**, we know that our data consists of transaction from **01/01/2000** to **31/12/2009**\n",
        "\n",
        "Referring to the interview results, the store owner, he wanted to be able to\n",
        "\n",
        " 1. View any common trends for each month throughout the year\n",
        " 2. View any common trends for each year\n",
        "\n",
        "thus, we can explore if there is any common trends of sales for certain month and specifically for certain items in certain month.\n"
      ],
      "metadata": {
        "id": "riyB9gTxYV2R"
      }
    },
    {
      "cell_type": "markdown",
      "source": [
        "#### Step 3.1.1: Monthly Sales Trend"
      ],
      "metadata": {
        "id": "tK7KoNPH1ZQk"
      }
    },
    {
      "cell_type": "markdown",
      "source": [
        "To analyze seasonal and yearly trends in sales, we need to extract the **year** and **month** from the `time of purchase` column. First, we convert the column to proper datetime format, then create two new columns: `year` and `month`."
      ],
      "metadata": {
        "id": "nNV1MfpI1kMr"
      }
    },
    {
      "cell_type": "code",
      "source": [
        "import calendar\n",
        "\n",
        "# Ensure datetime and extract year/month\n",
        "sales_data[\"time of purchase\"] = pd.to_datetime(sales_data[\"time of purchase\"], errors=\"coerce\")\n",
        "sales_data.loc[:, \"year\"] = sales_data[\"time of purchase\"].dt.year\n",
        "sales_data.loc[:, \"month\"] = sales_data[\"time of purchase\"].dt.month"
      ],
      "metadata": {
        "id": "gXA8VnP6zo_X"
      },
      "execution_count": 26,
      "outputs": []
    },
    {
      "cell_type": "markdown",
      "source": [
        "Now that we have extracted `year` and `month` columns, we can group or filter transactions by time period.\n",
        "\n",
        "To identify seasonal patterns and yearly fluctuations in sales, we’ll group transactions by **month and year**. This allows us to compare how sales volume changes across months over different years.\n",
        "\n",
        "We convert numeric months to abbreviated names (e.g., Jan, Feb) for better readability and use Seaborn to create a grouped bar chart."
      ],
      "metadata": {
        "id": "PAudYlt51rWj"
      }
    },
    {
      "cell_type": "code",
      "source": [
        "# Group by month and year\n",
        "monthly_sales = sales_data.groupby([\"month\", \"year\"]).size().reset_index(name=\"transactions\")\n",
        "\n",
        "# Convert month number to name (ensure integer index)\n",
        "monthly_sales[\"month_name\"] = monthly_sales[\"month\"].apply(lambda x: calendar.month_abbr[int(x)])\n",
        "month_order = list(calendar.month_abbr)[1:]\n",
        "monthly_sales[\"month_name\"] = pd.Categorical(monthly_sales[\"month_name\"], categories=month_order, ordered=True)\n",
        "\n",
        "# Plot grouped bar chart\n",
        "plt.figure(figsize=(14, 6))\n",
        "sns.barplot(\n",
        "    data=monthly_sales,\n",
        "    x=\"month_name\",\n",
        "    y=\"transactions\",\n",
        "    hue=\"year\",\n",
        "    palette=\"tab10\"\n",
        ")\n",
        "\n",
        "plt.title(\"Monthly Transaction Count by Year\")\n",
        "plt.xlabel(\"Month\")\n",
        "plt.ylabel(\"Number of Transactions\")\n",
        "plt.legend(title=\"Year\", bbox_to_anchor=(1.05, 1), loc=\"upper left\")\n",
        "plt.tight_layout()\n",
        "plt.show()"
      ],
      "metadata": {
        "colab": {
          "base_uri": "https://localhost:8080/",
          "height": 607
        },
        "id": "6lZ1-1zfx49i",
        "outputId": "971eb799-52d9-42fb-c17d-18795cf16eaf"
      },
      "execution_count": 27,
      "outputs": [
        {
          "output_type": "display_data",
          "data": {
            "text/plain": [
              "<Figure size 1400x600 with 1 Axes>"
            ],
            "image/png": "[encoded data removed]"
          },
          "metadata": {}
        }
      ]
    },
    {
      "cell_type": "markdown",
      "source": [
        "The grouped bar chart above presents monthly transaction volumes for each year from 2000 to 2009.\n",
        "\n",
        "We can observe seasonal trends, such as\n",
        "\n",
        "- **Seasonal Trends**: Certain months like **March, June, and August** consistently show higher transaction volumes across many years, suggesting potential seasonal demand peaks.\n",
        "- **Year-over-Year Variation**: There is visible variation in transaction counts by year, with some years showing stronger overall performance certain months, example year **2000**  in **January**,  year **2002**  in **June**, etc.\n",
        "- **End-of-Year Activity**: Unlike common retail trends, **December does not always peak**, indicating that this mini-mart may not be as affected by typical holiday sales patterns.\n",
        "- **Overall Stability**: Despite fluctuations, transaction volumes appear relatively stable month-to-month, with no extreme outliers or sudden drops.\n"
      ],
      "metadata": {
        "id": "apVwtjIl2Nrz"
      }
    },
    {
      "cell_type": "markdown",
      "source": [
        "#### Step 3.1.2: Monthly Sales Distribution of Top 10 Selling Items"
      ],
      "metadata": {
        "id": "94PpHvNA2igi"
      }
    },
    {
      "cell_type": "markdown",
      "source": [
        "To better understand product-level sales trends, we identify the **top 10 most frequently sold items** and analyze how their transactions are distributed across months.\n",
        "\n",
        "By visualizing this, the store owner can learn which items are in demand in specific months — useful for stocking and promotions planning."
      ],
      "metadata": {
        "id": "XlJtweAK2yla"
      }
    },
    {
      "cell_type": "code",
      "source": [
        "# Get top 10 items overall\n",
        "top_10_items = sales_data[\"item id\"].value_counts().head(10).index\n",
        "\n",
        "#  Filter to only top 10 items\n",
        "filtered_data = sales_data[sales_data[\"item id\"].isin(top_10_items)]\n",
        "\n",
        "# Group by item and month\n",
        "monthly_top_items = (\n",
        "    filtered_data.groupby([\"month\", \"item id\"])\n",
        "    .size()\n",
        "    .reset_index(name=\"transactions\")\n",
        ")\n",
        "\n",
        "# Convert month number to name\n",
        "monthly_top_items[\"month_name\"] = monthly_top_items[\"month\"].apply(lambda x: calendar.month_abbr[int(x)])\n",
        "month_order = list(calendar.month_abbr)[1:]\n",
        "monthly_top_items[\"month_name\"] = pd.Categorical(monthly_top_items[\"month_name\"], categories=month_order, ordered=True)\n",
        "\n",
        "# Plot grouped bar chart for Top 10 Items\n",
        "plt.figure(figsize=(14, 6))\n",
        "sns.barplot(\n",
        "    data=monthly_top_items,\n",
        "    x=\"month_name\",\n",
        "    y=\"transactions\",\n",
        "    hue=\"item id\",\n",
        "    palette=\"tab10\"\n",
        ")\n",
        "\n",
        "plt.title(\"Monthly Transaction Count by Top 10 Items\")\n",
        "plt.xlabel(\"Month\")\n",
        "plt.ylabel(\"Number of Transactions\")\n",
        "plt.legend(title=\"Item ID\", bbox_to_anchor=(1.05, 1), loc=\"upper left\")\n",
        "plt.tight_layout()\n",
        "plt.show()"
      ],
      "metadata": {
        "colab": {
          "base_uri": "https://localhost:8080/",
          "height": 607
        },
        "id": "g6Eekg4IyuD4",
        "outputId": "b6ed71bc-0260-426b-da81-c3e477224f47"
      },
      "execution_count": 28,
      "outputs": [
        {
          "output_type": "display_data",
          "data": {
            "text/plain": [
              "<Figure size 1400x600 with 1 Axes>"
            ],
            "image/png": "[encoded data removed]"
          },
          "metadata": {}
        }
      ]
    },
    {
      "cell_type": "markdown",
      "source": [
        "The grouped bar chart above illustrates how the top 10 selling items perform across each month of the year. Each color represents a unique item, allowing comparison of item-level sales trends over time.\n",
        "\n",
        "We can observe the following\n",
        "\n",
        "- **Consistent Demand**: Most top items show relatively steady performance across all months, indicating they are staple products with year-round demand.\n",
        "- **Seasonal Spikes**: Items like `28fc`, `d4d3`, and `d272` show slight peaks in **March, July, and December**, suggesting potential alignment with promotional periods or seasonal preferences.\n",
        "- **Balanced Competition**: No single item dominates all months, which may indicate a well-diversified product mix driving consistent customer engagement.\n",
        "\n",
        "These insights can help the store optimize inventory planning, prioritize high-performing products for marketing campaigns, and detect periods where specific items should be restocked in larger quantities.\n"
      ],
      "metadata": {
        "id": "vw-Bm0Qg24xB"
      }
    },
    {
      "cell_type": "markdown",
      "source": [
        "## Summary"
      ],
      "metadata": {
        "id": "SNhb6ZwZlDRq"
      }
    },
    {
      "cell_type": "markdown",
      "source": [
        "Through thorough data cleaning and exploratory analysis, we have uncovered key trends from the Key&U mini-mart’s sales data spanning multiple years.\n",
        "\n",
        "- **Transaction Trends**: We observed consistent monthly transaction patterns across years, with peaks typically in March, June, and August. This suggests seasonality or operational cycles that can inform stocking and staffing decisions.\n",
        "- **Top-Selling Items**: The top 10 items show stable performance throughout the year, with some seasonal spikes. Products like `d4d3` and `d272` tend to perform better in the second half of the year.\n",
        "- **Data Quality**: Missing and duplicate records were removed, and columns were cleaned for consistency. The `discounted %` field mostly contained zero values, suggesting limited promotional activity or a need for better discount tracking.\n",
        "- **Visual Exploration**: We used grouped bar charts and FacetGrids to visualize trends by year and item. These visualizations highlight both high-level trends and product-specific behaviors.\n",
        "\n",
        "Overall, the analysis provides actionable insights for optimizing inventory, promotions, and operational planning. Further exploration with pricing or customer data could unlock even deeper value.\n"
      ],
      "metadata": {
        "id": "GtOAFkm78cbU"
      }
    }
  ]
}